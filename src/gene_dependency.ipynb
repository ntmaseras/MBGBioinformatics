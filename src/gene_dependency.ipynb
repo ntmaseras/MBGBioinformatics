{
 "cells": [
  {
   "cell_type": "code",
   "execution_count": 20,
   "metadata": {},
   "outputs": [],
   "source": [
    "GENE_SELECTED = \"DIS3L2\"\n"
   ]
  },
  {
   "cell_type": "code",
   "execution_count": 21,
   "metadata": {},
   "outputs": [],
   "source": [
    "import os\n",
    "import numpy as np\n",
    "import pandas as pd\n",
    "from scipy.stats import pearsonr\n",
    "import seaborn as sns\n",
    "import matplotlib.pyplot as plt\n",
    "from scipy.stats import pearsonr\n",
    "import concurrent.futures\n",
    "sns.set(style=\"whitegrid\")"
   ]
  },
  {
   "cell_type": "code",
   "execution_count": 22,
   "metadata": {},
   "outputs": [],
   "source": [
    "map_file = '../data/22Q2//Achilles_guide_map.csv'\n",
    "data_file = '../data/22Q2/Achilles_gene_effect.csv'\n",
    "map = pd.read_csv(map_file)\n",
    "achilles = pd.read_csv(data_file)"
   ]
  },
  {
   "attachments": {},
   "cell_type": "markdown",
   "metadata": {},
   "source": [
    "Let's see the files"
   ]
  },
  {
   "cell_type": "code",
   "execution_count": 23,
   "metadata": {},
   "outputs": [
    {
     "data": {
      "text/html": [
       "<div>\n",
       "<style scoped>\n",
       "    .dataframe tbody tr th:only-of-type {\n",
       "        vertical-align: middle;\n",
       "    }\n",
       "\n",
       "    .dataframe tbody tr th {\n",
       "        vertical-align: top;\n",
       "    }\n",
       "\n",
       "    .dataframe thead th {\n",
       "        text-align: right;\n",
       "    }\n",
       "</style>\n",
       "<table border=\"1\" class=\"dataframe\">\n",
       "  <thead>\n",
       "    <tr style=\"text-align: right;\">\n",
       "      <th></th>\n",
       "      <th>sgrna</th>\n",
       "      <th>genome_alignment</th>\n",
       "      <th>gene</th>\n",
       "      <th>n_alignments</th>\n",
       "    </tr>\n",
       "  </thead>\n",
       "  <tbody>\n",
       "    <tr>\n",
       "      <th>0</th>\n",
       "      <td>AAAAAAATCCAGCAATGCAG</td>\n",
       "      <td>chr10_110964620_+</td>\n",
       "      <td>SHOC2 (8036)</td>\n",
       "      <td>1</td>\n",
       "    </tr>\n",
       "    <tr>\n",
       "      <th>1</th>\n",
       "      <td>AAAAAACCCGTAGATAGCCT</td>\n",
       "      <td>chr12_95003615_+</td>\n",
       "      <td>NDUFA12 (55967)</td>\n",
       "      <td>1</td>\n",
       "    </tr>\n",
       "  </tbody>\n",
       "</table>\n",
       "</div>"
      ],
      "text/plain": [
       "                  sgrna   genome_alignment             gene  n_alignments\n",
       "0  AAAAAAATCCAGCAATGCAG  chr10_110964620_+     SHOC2 (8036)             1\n",
       "1  AAAAAACCCGTAGATAGCCT   chr12_95003615_+  NDUFA12 (55967)             1"
      ]
     },
     "execution_count": 23,
     "metadata": {},
     "output_type": "execute_result"
    }
   ],
   "source": [
    "map.head(2)"
   ]
  },
  {
   "cell_type": "code",
   "execution_count": 24,
   "metadata": {},
   "outputs": [
    {
     "data": {
      "text/plain": [
       "(74336, 4)"
      ]
     },
     "execution_count": 24,
     "metadata": {},
     "output_type": "execute_result"
    }
   ],
   "source": [
    "map.shape"
   ]
  },
  {
   "cell_type": "code",
   "execution_count": 25,
   "metadata": {},
   "outputs": [
    {
     "data": {
      "text/html": [
       "<div>\n",
       "<style scoped>\n",
       "    .dataframe tbody tr th:only-of-type {\n",
       "        vertical-align: middle;\n",
       "    }\n",
       "\n",
       "    .dataframe tbody tr th {\n",
       "        vertical-align: top;\n",
       "    }\n",
       "\n",
       "    .dataframe thead th {\n",
       "        text-align: right;\n",
       "    }\n",
       "</style>\n",
       "<table border=\"1\" class=\"dataframe\">\n",
       "  <thead>\n",
       "    <tr style=\"text-align: right;\">\n",
       "      <th></th>\n",
       "      <th>DepMap_ID</th>\n",
       "      <th>A1BG (1)</th>\n",
       "      <th>A1CF (29974)</th>\n",
       "      <th>A2M (2)</th>\n",
       "      <th>A2ML1 (144568)</th>\n",
       "      <th>A3GALT2 (127550)</th>\n",
       "      <th>A4GALT (53947)</th>\n",
       "      <th>A4GNT (51146)</th>\n",
       "      <th>AAAS (8086)</th>\n",
       "      <th>AACS (65985)</th>\n",
       "      <th>...</th>\n",
       "      <th>ZWILCH (55055)</th>\n",
       "      <th>ZWINT (11130)</th>\n",
       "      <th>ZXDA (7789)</th>\n",
       "      <th>ZXDB (158586)</th>\n",
       "      <th>ZXDC (79364)</th>\n",
       "      <th>ZYG11A (440590)</th>\n",
       "      <th>ZYG11B (79699)</th>\n",
       "      <th>ZYX (7791)</th>\n",
       "      <th>ZZEF1 (23140)</th>\n",
       "      <th>ZZZ3 (26009)</th>\n",
       "    </tr>\n",
       "  </thead>\n",
       "  <tbody>\n",
       "    <tr>\n",
       "      <th>0</th>\n",
       "      <td>ACH-000004</td>\n",
       "      <td>0.101156</td>\n",
       "      <td>0.019349</td>\n",
       "      <td>-0.218404</td>\n",
       "      <td>-0.010704</td>\n",
       "      <td>0.146463</td>\n",
       "      <td>-0.142147</td>\n",
       "      <td>0.148280</td>\n",
       "      <td>-0.329886</td>\n",
       "      <td>0.158813</td>\n",
       "      <td>...</td>\n",
       "      <td>0.027789</td>\n",
       "      <td>-0.222223</td>\n",
       "      <td>0.028758</td>\n",
       "      <td>-0.042301</td>\n",
       "      <td>0.118614</td>\n",
       "      <td>-0.058945</td>\n",
       "      <td>-0.253932</td>\n",
       "      <td>0.19573</td>\n",
       "      <td>0.151277</td>\n",
       "      <td>-0.023335</td>\n",
       "    </tr>\n",
       "    <tr>\n",
       "      <th>1</th>\n",
       "      <td>ACH-000005</td>\n",
       "      <td>-0.028238</td>\n",
       "      <td>0.042131</td>\n",
       "      <td>0.004066</td>\n",
       "      <td>0.108121</td>\n",
       "      <td>0.111987</td>\n",
       "      <td>-0.137859</td>\n",
       "      <td>0.121038</td>\n",
       "      <td>-0.359282</td>\n",
       "      <td>-0.045626</td>\n",
       "      <td>...</td>\n",
       "      <td>0.080696</td>\n",
       "      <td>-0.272542</td>\n",
       "      <td>-0.251188</td>\n",
       "      <td>-0.133216</td>\n",
       "      <td>0.015223</td>\n",
       "      <td>-0.034227</td>\n",
       "      <td>-0.248819</td>\n",
       "      <td>0.09712</td>\n",
       "      <td>-0.025372</td>\n",
       "      <td>-0.091575</td>\n",
       "    </tr>\n",
       "  </tbody>\n",
       "</table>\n",
       "<p>2 rows × 18018 columns</p>\n",
       "</div>"
      ],
      "text/plain": [
       "    DepMap_ID  A1BG (1)  A1CF (29974)   A2M (2)  A2ML1 (144568)  \\\n",
       "0  ACH-000004  0.101156      0.019349 -0.218404       -0.010704   \n",
       "1  ACH-000005 -0.028238      0.042131  0.004066        0.108121   \n",
       "\n",
       "   A3GALT2 (127550)  A4GALT (53947)  A4GNT (51146)  AAAS (8086)  AACS (65985)  \\\n",
       "0          0.146463       -0.142147       0.148280    -0.329886      0.158813   \n",
       "1          0.111987       -0.137859       0.121038    -0.359282     -0.045626   \n",
       "\n",
       "   ...  ZWILCH (55055)  ZWINT (11130)  ZXDA (7789)  ZXDB (158586)  \\\n",
       "0  ...        0.027789      -0.222223     0.028758      -0.042301   \n",
       "1  ...        0.080696      -0.272542    -0.251188      -0.133216   \n",
       "\n",
       "   ZXDC (79364)  ZYG11A (440590)  ZYG11B (79699)  ZYX (7791)  ZZEF1 (23140)  \\\n",
       "0      0.118614        -0.058945       -0.253932     0.19573       0.151277   \n",
       "1      0.015223        -0.034227       -0.248819     0.09712      -0.025372   \n",
       "\n",
       "   ZZZ3 (26009)  \n",
       "0     -0.023335  \n",
       "1     -0.091575  \n",
       "\n",
       "[2 rows x 18018 columns]"
      ]
     },
     "execution_count": 25,
     "metadata": {},
     "output_type": "execute_result"
    }
   ],
   "source": [
    "achilles.head(2)"
   ]
  },
  {
   "cell_type": "code",
   "execution_count": 26,
   "metadata": {},
   "outputs": [
    {
     "data": {
      "text/plain": [
       "(957, 18018)"
      ]
     },
     "execution_count": 26,
     "metadata": {},
     "output_type": "execute_result"
    }
   ],
   "source": [
    "achilles.shape"
   ]
  },
  {
   "attachments": {},
   "cell_type": "markdown",
   "metadata": {},
   "source": [
    "#### Some preprocessing"
   ]
  },
  {
   "cell_type": "code",
   "execution_count": 27,
   "metadata": {},
   "outputs": [
    {
     "name": "stdout",
     "output_type": "stream",
     "text": [
      "<class 'pandas.core.frame.DataFrame'>\n",
      "RangeIndex: 957 entries, 0 to 956\n",
      "Columns: 18018 entries, DepMap_ID to ZZZ3 (26009)\n",
      "dtypes: float64(18017), object(1)\n",
      "memory usage: 131.6+ MB\n"
     ]
    }
   ],
   "source": [
    "achilles.info()"
   ]
  },
  {
   "cell_type": "code",
   "execution_count": 28,
   "metadata": {},
   "outputs": [],
   "source": [
    "achilles = achilles.dropna()"
   ]
  },
  {
   "cell_type": "code",
   "execution_count": 29,
   "metadata": {},
   "outputs": [],
   "source": [
    "\n",
    "achilles.columns = achilles.columns.str.replace(\" \", \"_\").str.replace(\"[()]\", \"\", regex=True)"
   ]
  },
  {
   "cell_type": "code",
   "execution_count": 30,
   "metadata": {},
   "outputs": [
    {
     "data": {
      "text/html": [
       "<div>\n",
       "<style scoped>\n",
       "    .dataframe tbody tr th:only-of-type {\n",
       "        vertical-align: middle;\n",
       "    }\n",
       "\n",
       "    .dataframe tbody tr th {\n",
       "        vertical-align: top;\n",
       "    }\n",
       "\n",
       "    .dataframe thead th {\n",
       "        text-align: right;\n",
       "    }\n",
       "</style>\n",
       "<table border=\"1\" class=\"dataframe\">\n",
       "  <thead>\n",
       "    <tr style=\"text-align: right;\">\n",
       "      <th></th>\n",
       "      <th>DepMap_ID</th>\n",
       "      <th>A1BG_1</th>\n",
       "      <th>A1CF_29974</th>\n",
       "      <th>A2M_2</th>\n",
       "      <th>A2ML1_144568</th>\n",
       "      <th>A3GALT2_127550</th>\n",
       "      <th>A4GALT_53947</th>\n",
       "      <th>A4GNT_51146</th>\n",
       "      <th>AAAS_8086</th>\n",
       "      <th>AACS_65985</th>\n",
       "      <th>...</th>\n",
       "      <th>ZWILCH_55055</th>\n",
       "      <th>ZWINT_11130</th>\n",
       "      <th>ZXDA_7789</th>\n",
       "      <th>ZXDB_158586</th>\n",
       "      <th>ZXDC_79364</th>\n",
       "      <th>ZYG11A_440590</th>\n",
       "      <th>ZYG11B_79699</th>\n",
       "      <th>ZYX_7791</th>\n",
       "      <th>ZZEF1_23140</th>\n",
       "      <th>ZZZ3_26009</th>\n",
       "    </tr>\n",
       "  </thead>\n",
       "  <tbody>\n",
       "    <tr>\n",
       "      <th>0</th>\n",
       "      <td>ACH-000004</td>\n",
       "      <td>0.101156</td>\n",
       "      <td>0.019349</td>\n",
       "      <td>-0.218404</td>\n",
       "      <td>-0.010704</td>\n",
       "      <td>0.146463</td>\n",
       "      <td>-0.142147</td>\n",
       "      <td>0.148280</td>\n",
       "      <td>-0.329886</td>\n",
       "      <td>0.158813</td>\n",
       "      <td>...</td>\n",
       "      <td>0.027789</td>\n",
       "      <td>-0.222223</td>\n",
       "      <td>0.028758</td>\n",
       "      <td>-0.042301</td>\n",
       "      <td>0.118614</td>\n",
       "      <td>-0.058945</td>\n",
       "      <td>-0.253932</td>\n",
       "      <td>0.19573</td>\n",
       "      <td>0.151277</td>\n",
       "      <td>-0.023335</td>\n",
       "    </tr>\n",
       "    <tr>\n",
       "      <th>1</th>\n",
       "      <td>ACH-000005</td>\n",
       "      <td>-0.028238</td>\n",
       "      <td>0.042131</td>\n",
       "      <td>0.004066</td>\n",
       "      <td>0.108121</td>\n",
       "      <td>0.111987</td>\n",
       "      <td>-0.137859</td>\n",
       "      <td>0.121038</td>\n",
       "      <td>-0.359282</td>\n",
       "      <td>-0.045626</td>\n",
       "      <td>...</td>\n",
       "      <td>0.080696</td>\n",
       "      <td>-0.272542</td>\n",
       "      <td>-0.251188</td>\n",
       "      <td>-0.133216</td>\n",
       "      <td>0.015223</td>\n",
       "      <td>-0.034227</td>\n",
       "      <td>-0.248819</td>\n",
       "      <td>0.09712</td>\n",
       "      <td>-0.025372</td>\n",
       "      <td>-0.091575</td>\n",
       "    </tr>\n",
       "  </tbody>\n",
       "</table>\n",
       "<p>2 rows × 18018 columns</p>\n",
       "</div>"
      ],
      "text/plain": [
       "    DepMap_ID    A1BG_1  A1CF_29974     A2M_2  A2ML1_144568  A3GALT2_127550  \\\n",
       "0  ACH-000004  0.101156    0.019349 -0.218404     -0.010704        0.146463   \n",
       "1  ACH-000005 -0.028238    0.042131  0.004066      0.108121        0.111987   \n",
       "\n",
       "   A4GALT_53947  A4GNT_51146  AAAS_8086  AACS_65985  ...  ZWILCH_55055  \\\n",
       "0     -0.142147     0.148280  -0.329886    0.158813  ...      0.027789   \n",
       "1     -0.137859     0.121038  -0.359282   -0.045626  ...      0.080696   \n",
       "\n",
       "   ZWINT_11130  ZXDA_7789  ZXDB_158586  ZXDC_79364  ZYG11A_440590  \\\n",
       "0    -0.222223   0.028758    -0.042301    0.118614      -0.058945   \n",
       "1    -0.272542  -0.251188    -0.133216    0.015223      -0.034227   \n",
       "\n",
       "   ZYG11B_79699  ZYX_7791  ZZEF1_23140  ZZZ3_26009  \n",
       "0     -0.253932   0.19573     0.151277   -0.023335  \n",
       "1     -0.248819   0.09712    -0.025372   -0.091575  \n",
       "\n",
       "[2 rows x 18018 columns]"
      ]
     },
     "execution_count": 30,
     "metadata": {},
     "output_type": "execute_result"
    }
   ],
   "source": [
    "achilles.head(2)"
   ]
  },
  {
   "cell_type": "code",
   "execution_count": 31,
   "metadata": {},
   "outputs": [
    {
     "data": {
      "text/html": [
       "<div>\n",
       "<style scoped>\n",
       "    .dataframe tbody tr th:only-of-type {\n",
       "        vertical-align: middle;\n",
       "    }\n",
       "\n",
       "    .dataframe tbody tr th {\n",
       "        vertical-align: top;\n",
       "    }\n",
       "\n",
       "    .dataframe thead th {\n",
       "        text-align: right;\n",
       "    }\n",
       "</style>\n",
       "<table border=\"1\" class=\"dataframe\">\n",
       "  <thead>\n",
       "    <tr style=\"text-align: right;\">\n",
       "      <th></th>\n",
       "      <th>DepMap_ID</th>\n",
       "      <th>genes</th>\n",
       "      <th>value_gene_selected</th>\n",
       "    </tr>\n",
       "  </thead>\n",
       "  <tbody>\n",
       "    <tr>\n",
       "      <th>0</th>\n",
       "      <td>ACH-000004</td>\n",
       "      <td>A1BG_1</td>\n",
       "      <td>0.101156</td>\n",
       "    </tr>\n",
       "    <tr>\n",
       "      <th>1</th>\n",
       "      <td>ACH-000005</td>\n",
       "      <td>A1BG_1</td>\n",
       "      <td>-0.028238</td>\n",
       "    </tr>\n",
       "    <tr>\n",
       "      <th>2</th>\n",
       "      <td>ACH-000007</td>\n",
       "      <td>A1BG_1</td>\n",
       "      <td>0.017333</td>\n",
       "    </tr>\n",
       "    <tr>\n",
       "      <th>3</th>\n",
       "      <td>ACH-000009</td>\n",
       "      <td>A1BG_1</td>\n",
       "      <td>0.010019</td>\n",
       "    </tr>\n",
       "    <tr>\n",
       "      <th>4</th>\n",
       "      <td>ACH-000011</td>\n",
       "      <td>A1BG_1</td>\n",
       "      <td>0.148716</td>\n",
       "    </tr>\n",
       "  </tbody>\n",
       "</table>\n",
       "</div>"
      ],
      "text/plain": [
       "    DepMap_ID   genes  value_gene_selected\n",
       "0  ACH-000004  A1BG_1             0.101156\n",
       "1  ACH-000005  A1BG_1            -0.028238\n",
       "2  ACH-000007  A1BG_1             0.017333\n",
       "3  ACH-000009  A1BG_1             0.010019\n",
       "4  ACH-000011  A1BG_1             0.148716"
      ]
     },
     "execution_count": 31,
     "metadata": {},
     "output_type": "execute_result"
    }
   ],
   "source": [
    "achilles.columns = achilles.columns.str.replace(\" \", \"_\").str.replace(\"[()]\", \"\", regex=True)\n",
    "achilles_clean= pd.melt(achilles, id_vars=[\"DepMap_ID\"], var_name=\"genes\", value_name=\"value_gene_selected\")\n",
    "achilles_clean.head()"
   ]
  },
  {
   "attachments": {},
   "cell_type": "markdown",
   "metadata": {},
   "source": [
    "#### Maybe store the number in other column? "
   ]
  },
  {
   "cell_type": "code",
   "execution_count": 32,
   "metadata": {},
   "outputs": [
    {
     "data": {
      "text/plain": [
       "4079    DIS3L2_129563\n",
       "dtype: object"
      ]
     },
     "execution_count": 32,
     "metadata": {},
     "output_type": "execute_result"
    }
   ],
   "source": [
    "genes = pd.Series(achilles_clean.genes.unique())\n",
    "genes[genes.str.startswith(GENE_SELECTED)]\n"
   ]
  },
  {
   "cell_type": "code",
   "execution_count": 33,
   "metadata": {},
   "outputs": [],
   "source": [
    "achilles_clean[['gene', 'gene_id']] = achilles_clean['genes'].str.split('_', expand=True)\n"
   ]
  },
  {
   "cell_type": "code",
   "execution_count": 34,
   "metadata": {},
   "outputs": [
    {
     "data": {
      "text/html": [
       "<div>\n",
       "<style scoped>\n",
       "    .dataframe tbody tr th:only-of-type {\n",
       "        vertical-align: middle;\n",
       "    }\n",
       "\n",
       "    .dataframe tbody tr th {\n",
       "        vertical-align: top;\n",
       "    }\n",
       "\n",
       "    .dataframe thead th {\n",
       "        text-align: right;\n",
       "    }\n",
       "</style>\n",
       "<table border=\"1\" class=\"dataframe\">\n",
       "  <thead>\n",
       "    <tr style=\"text-align: right;\">\n",
       "      <th></th>\n",
       "      <th>DepMap_ID</th>\n",
       "      <th>value_gene_selected</th>\n",
       "      <th>gene</th>\n",
       "      <th>gene_id</th>\n",
       "    </tr>\n",
       "  </thead>\n",
       "  <tbody>\n",
       "    <tr>\n",
       "      <th>0</th>\n",
       "      <td>ACH-000004</td>\n",
       "      <td>0.101156</td>\n",
       "      <td>A1BG</td>\n",
       "      <td>1</td>\n",
       "    </tr>\n",
       "    <tr>\n",
       "      <th>1</th>\n",
       "      <td>ACH-000005</td>\n",
       "      <td>-0.028238</td>\n",
       "      <td>A1BG</td>\n",
       "      <td>1</td>\n",
       "    </tr>\n",
       "    <tr>\n",
       "      <th>2</th>\n",
       "      <td>ACH-000007</td>\n",
       "      <td>0.017333</td>\n",
       "      <td>A1BG</td>\n",
       "      <td>1</td>\n",
       "    </tr>\n",
       "    <tr>\n",
       "      <th>3</th>\n",
       "      <td>ACH-000009</td>\n",
       "      <td>0.010019</td>\n",
       "      <td>A1BG</td>\n",
       "      <td>1</td>\n",
       "    </tr>\n",
       "    <tr>\n",
       "      <th>4</th>\n",
       "      <td>ACH-000011</td>\n",
       "      <td>0.148716</td>\n",
       "      <td>A1BG</td>\n",
       "      <td>1</td>\n",
       "    </tr>\n",
       "  </tbody>\n",
       "</table>\n",
       "</div>"
      ],
      "text/plain": [
       "    DepMap_ID  value_gene_selected  gene gene_id\n",
       "0  ACH-000004             0.101156  A1BG       1\n",
       "1  ACH-000005            -0.028238  A1BG       1\n",
       "2  ACH-000007             0.017333  A1BG       1\n",
       "3  ACH-000009             0.010019  A1BG       1\n",
       "4  ACH-000011             0.148716  A1BG       1"
      ]
     },
     "execution_count": 34,
     "metadata": {},
     "output_type": "execute_result"
    }
   ],
   "source": [
    "achilles_clean.drop(columns=['genes'], inplace = True)\n",
    "achilles_clean.head()"
   ]
  },
  {
   "cell_type": "code",
   "execution_count": 35,
   "metadata": {},
   "outputs": [
    {
     "data": {
      "text/plain": [
       "(17152184, 4)"
      ]
     },
     "execution_count": 35,
     "metadata": {},
     "output_type": "execute_result"
    }
   ],
   "source": [
    "achilles_clean.shape"
   ]
  },
  {
   "cell_type": "code",
   "execution_count": 36,
   "metadata": {},
   "outputs": [
    {
     "data": {
      "text/html": [
       "<div>\n",
       "<style scoped>\n",
       "    .dataframe tbody tr th:only-of-type {\n",
       "        vertical-align: middle;\n",
       "    }\n",
       "\n",
       "    .dataframe tbody tr th {\n",
       "        vertical-align: top;\n",
       "    }\n",
       "\n",
       "    .dataframe thead th {\n",
       "        text-align: right;\n",
       "    }\n",
       "</style>\n",
       "<table border=\"1\" class=\"dataframe\">\n",
       "  <thead>\n",
       "    <tr style=\"text-align: right;\">\n",
       "      <th></th>\n",
       "      <th>sgrna</th>\n",
       "      <th>genome_alignment</th>\n",
       "      <th>gene</th>\n",
       "      <th>n_alignments</th>\n",
       "      <th>chromosome</th>\n",
       "      <th>avg_pos</th>\n",
       "      <th>_</th>\n",
       "      <th>gene_id</th>\n",
       "    </tr>\n",
       "  </thead>\n",
       "  <tbody>\n",
       "    <tr>\n",
       "      <th>0</th>\n",
       "      <td>AAAAAAATCCAGCAATGCAG</td>\n",
       "      <td>chr10_110964620_+</td>\n",
       "      <td>SHOC2</td>\n",
       "      <td>1</td>\n",
       "      <td>chr10</td>\n",
       "      <td>110964620</td>\n",
       "      <td>+</td>\n",
       "      <td>8036</td>\n",
       "    </tr>\n",
       "    <tr>\n",
       "      <th>1</th>\n",
       "      <td>AAAAAACCCGTAGATAGCCT</td>\n",
       "      <td>chr12_95003615_+</td>\n",
       "      <td>NDUFA12</td>\n",
       "      <td>1</td>\n",
       "      <td>chr12</td>\n",
       "      <td>95003615</td>\n",
       "      <td>+</td>\n",
       "      <td>55967</td>\n",
       "    </tr>\n",
       "    <tr>\n",
       "      <th>2</th>\n",
       "      <td>AAAAAAGAAGAAAAAACCAG</td>\n",
       "      <td>chr4_75970356_-</td>\n",
       "      <td>SDAD1</td>\n",
       "      <td>1</td>\n",
       "      <td>chr4</td>\n",
       "      <td>75970356</td>\n",
       "      <td>-</td>\n",
       "      <td>55153</td>\n",
       "    </tr>\n",
       "    <tr>\n",
       "      <th>3</th>\n",
       "      <td>AAAAAAGCTCAAGAAGGAGG</td>\n",
       "      <td>chr2_33588446_-</td>\n",
       "      <td>FAM98A</td>\n",
       "      <td>1</td>\n",
       "      <td>chr2</td>\n",
       "      <td>33588446</td>\n",
       "      <td>-</td>\n",
       "      <td>25940</td>\n",
       "    </tr>\n",
       "    <tr>\n",
       "      <th>4</th>\n",
       "      <td>AAAAAAGGCTGTAAAAGCGT</td>\n",
       "      <td>chr19_19891600_+</td>\n",
       "      <td>ZNF253</td>\n",
       "      <td>1</td>\n",
       "      <td>chr19</td>\n",
       "      <td>19891600</td>\n",
       "      <td>+</td>\n",
       "      <td>56242</td>\n",
       "    </tr>\n",
       "  </tbody>\n",
       "</table>\n",
       "</div>"
      ],
      "text/plain": [
       "                  sgrna   genome_alignment     gene  n_alignments chromosome  \\\n",
       "0  AAAAAAATCCAGCAATGCAG  chr10_110964620_+    SHOC2             1      chr10   \n",
       "1  AAAAAACCCGTAGATAGCCT   chr12_95003615_+  NDUFA12             1      chr12   \n",
       "2  AAAAAAGAAGAAAAAACCAG    chr4_75970356_-    SDAD1             1       chr4   \n",
       "3  AAAAAAGCTCAAGAAGGAGG    chr2_33588446_-   FAM98A             1       chr2   \n",
       "4  AAAAAAGGCTGTAAAAGCGT   chr19_19891600_+   ZNF253             1      chr19   \n",
       "\n",
       "     avg_pos  _ gene_id  \n",
       "0  110964620  +    8036  \n",
       "1   95003615  +   55967  \n",
       "2   75970356  -   55153  \n",
       "3   33588446  -   25940  \n",
       "4   19891600  +   56242  "
      ]
     },
     "execution_count": 36,
     "metadata": {},
     "output_type": "execute_result"
    }
   ],
   "source": [
    "map[['chromosome', 'avg_pos','_']] = map['genome_alignment'].str.split('_', expand=True)\n",
    "map[['gene', 'gene_id']] = map['gene'].str.split(' ', expand=True)\n",
    "map.gene_id = map.gene_id.str.replace(\"[()]\", \"\", regex=True)\n",
    "map.head()"
   ]
  },
  {
   "attachments": {},
   "cell_type": "markdown",
   "metadata": {},
   "source": [
    "#### Let's compute the correlations"
   ]
  },
  {
   "cell_type": "code",
   "execution_count": 37,
   "metadata": {},
   "outputs": [
    {
     "data": {
      "text/html": [
       "<div>\n",
       "<style scoped>\n",
       "    .dataframe tbody tr th:only-of-type {\n",
       "        vertical-align: middle;\n",
       "    }\n",
       "\n",
       "    .dataframe tbody tr th {\n",
       "        vertical-align: top;\n",
       "    }\n",
       "\n",
       "    .dataframe thead th {\n",
       "        text-align: right;\n",
       "    }\n",
       "</style>\n",
       "<table border=\"1\" class=\"dataframe\">\n",
       "  <thead>\n",
       "    <tr style=\"text-align: right;\">\n",
       "      <th></th>\n",
       "      <th>DepMap_ID</th>\n",
       "      <th>value_gene_selected</th>\n",
       "      <th>gene</th>\n",
       "      <th>gene_id</th>\n",
       "    </tr>\n",
       "  </thead>\n",
       "  <tbody>\n",
       "    <tr>\n",
       "      <th>0</th>\n",
       "      <td>ACH-000004</td>\n",
       "      <td>0.101156</td>\n",
       "      <td>A1BG</td>\n",
       "      <td>1</td>\n",
       "    </tr>\n",
       "    <tr>\n",
       "      <th>1</th>\n",
       "      <td>ACH-000005</td>\n",
       "      <td>-0.028238</td>\n",
       "      <td>A1BG</td>\n",
       "      <td>1</td>\n",
       "    </tr>\n",
       "    <tr>\n",
       "      <th>2</th>\n",
       "      <td>ACH-000007</td>\n",
       "      <td>0.017333</td>\n",
       "      <td>A1BG</td>\n",
       "      <td>1</td>\n",
       "    </tr>\n",
       "    <tr>\n",
       "      <th>3</th>\n",
       "      <td>ACH-000009</td>\n",
       "      <td>0.010019</td>\n",
       "      <td>A1BG</td>\n",
       "      <td>1</td>\n",
       "    </tr>\n",
       "    <tr>\n",
       "      <th>4</th>\n",
       "      <td>ACH-000011</td>\n",
       "      <td>0.148716</td>\n",
       "      <td>A1BG</td>\n",
       "      <td>1</td>\n",
       "    </tr>\n",
       "  </tbody>\n",
       "</table>\n",
       "</div>"
      ],
      "text/plain": [
       "    DepMap_ID  value_gene_selected  gene gene_id\n",
       "0  ACH-000004             0.101156  A1BG       1\n",
       "1  ACH-000005            -0.028238  A1BG       1\n",
       "2  ACH-000007             0.017333  A1BG       1\n",
       "3  ACH-000009             0.010019  A1BG       1\n",
       "4  ACH-000011             0.148716  A1BG       1"
      ]
     },
     "execution_count": 37,
     "metadata": {},
     "output_type": "execute_result"
    }
   ],
   "source": [
    "achilles_clean.head()"
   ]
  },
  {
   "cell_type": "code",
   "execution_count": 38,
   "metadata": {},
   "outputs": [
    {
     "data": {
      "text/plain": [
       "3883208   -0.096076\n",
       "3883209    0.258862\n",
       "3883210   -0.076563\n",
       "3883211    0.099047\n",
       "3883212    0.035837\n",
       "Name: value_gene_selected, dtype: float64"
      ]
     },
     "execution_count": 38,
     "metadata": {},
     "output_type": "execute_result"
    }
   ],
   "source": [
    "data = achilles_clean.copy()\n",
    "selected_gene_data = data[data['gene'] == GENE_SELECTED]['value_gene_selected']\n",
    "selected_gene_data.head()"
   ]
  },
  {
   "cell_type": "code",
   "execution_count": 21,
   "metadata": {},
   "outputs": [
    {
     "name": "stdout",
     "output_type": "stream",
     "text": [
      "Computed correlations for 1000 / 18119 genes.\n",
      "Computed correlations for 2000 / 18119 genes.\n",
      "Computed correlations for 3000 / 18119 genes.\n",
      "Computed correlations for 4000 / 18119 genes.\n"
     ]
    },
    {
     "name": "stderr",
     "output_type": "stream",
     "text": [
      "/scratch/usertmp/ipykernel_3839478/2887426482.py:10: RuntimeWarning: divide by zero encountered in log10\n",
      "  return correlation, pvalue, -np.log10(pvalue)\n"
     ]
    },
    {
     "name": "stdout",
     "output_type": "stream",
     "text": [
      "Computed correlations for 5000 / 18119 genes.\n",
      "Computed correlations for 6000 / 18119 genes.\n",
      "Computed correlations for 7000 / 18119 genes.\n",
      "Computed correlations for 8000 / 18119 genes.\n",
      "Computed correlations for 9000 / 18119 genes.\n",
      "Computed correlations for 10000 / 18119 genes.\n",
      "Computed correlations for 11000 / 18119 genes.\n",
      "Computed correlations for 12000 / 18119 genes.\n",
      "Computed correlations for 13000 / 18119 genes.\n",
      "Computed correlations for 14000 / 18119 genes.\n",
      "Computed correlations for 15000 / 18119 genes.\n",
      "Computed correlations for 16000 / 18119 genes.\n",
      "Computed correlations for 17000 / 18119 genes.\n",
      "Computed correlations for 18000 / 18119 genes.\n"
     ]
    },
    {
     "data": {
      "text/html": [
       "<div>\n",
       "<style scoped>\n",
       "    .dataframe tbody tr th:only-of-type {\n",
       "        vertical-align: middle;\n",
       "    }\n",
       "\n",
       "    .dataframe tbody tr th {\n",
       "        vertical-align: top;\n",
       "    }\n",
       "\n",
       "    .dataframe thead th {\n",
       "        text-align: right;\n",
       "    }\n",
       "</style>\n",
       "<table border=\"1\" class=\"dataframe\">\n",
       "  <thead>\n",
       "    <tr style=\"text-align: right;\">\n",
       "      <th></th>\n",
       "      <th>SELECTED_GENE</th>\n",
       "      <th>EVALUATED_GENE</th>\n",
       "      <th>CORRELATION</th>\n",
       "      <th>PVALUE</th>\n",
       "      <th>LOGPVALUE</th>\n",
       "    </tr>\n",
       "  </thead>\n",
       "  <tbody>\n",
       "    <tr>\n",
       "      <th>0</th>\n",
       "      <td>DIS3L2</td>\n",
       "      <td>A1BG</td>\n",
       "      <td>0.018735</td>\n",
       "      <td>0.601819</td>\n",
       "      <td>0.220534</td>\n",
       "    </tr>\n",
       "    <tr>\n",
       "      <th>1</th>\n",
       "      <td>DIS3L2</td>\n",
       "      <td>A1CF</td>\n",
       "      <td>-0.017360</td>\n",
       "      <td>0.628761</td>\n",
       "      <td>0.201514</td>\n",
       "    </tr>\n",
       "    <tr>\n",
       "      <th>2</th>\n",
       "      <td>DIS3L2</td>\n",
       "      <td>A2M</td>\n",
       "      <td>-0.023249</td>\n",
       "      <td>0.517303</td>\n",
       "      <td>0.286255</td>\n",
       "    </tr>\n",
       "    <tr>\n",
       "      <th>3</th>\n",
       "      <td>DIS3L2</td>\n",
       "      <td>A2ML1</td>\n",
       "      <td>-0.058463</td>\n",
       "      <td>0.103218</td>\n",
       "      <td>0.986244</td>\n",
       "    </tr>\n",
       "    <tr>\n",
       "      <th>4</th>\n",
       "      <td>DIS3L2</td>\n",
       "      <td>A3GALT2</td>\n",
       "      <td>0.019349</td>\n",
       "      <td>0.589967</td>\n",
       "      <td>0.229173</td>\n",
       "    </tr>\n",
       "  </tbody>\n",
       "</table>\n",
       "</div>"
      ],
      "text/plain": [
       "  SELECTED_GENE EVALUATED_GENE  CORRELATION    PVALUE  LOGPVALUE\n",
       "0        DIS3L2           A1BG     0.018735  0.601819   0.220534\n",
       "1        DIS3L2           A1CF    -0.017360  0.628761   0.201514\n",
       "2        DIS3L2            A2M    -0.023249  0.517303   0.286255\n",
       "3        DIS3L2          A2ML1    -0.058463  0.103218   0.986244\n",
       "4        DIS3L2        A3GALT2     0.019349  0.589967   0.229173"
      ]
     },
     "execution_count": 21,
     "metadata": {},
     "output_type": "execute_result"
    }
   ],
   "source": [
    "data = achilles_clean.copy()\n",
    "selected_gene_data = data[data['gene'] == GENE_SELECTED]['value_gene_selected']\n",
    "\n",
    "# Create an empty dictionary to store correlations\n",
    "correlations = []\n",
    "\n",
    "gene_count = 0\n",
    "def calculate_correlation(selected_gene, other_gene_data):\n",
    "    correlation, pvalue = pearsonr(selected_gene, other_gene_data)\n",
    "    return correlation, pvalue, -np.log10(pvalue)\n",
    "\n",
    "\n",
    "# Get unique genes in the dataset\n",
    "unique_genes = data['gene'].unique()\n",
    "\n",
    "correlations = []\n",
    "\n",
    "# correlations for a single gene\n",
    "def calculate_gene_correlations(other_gene):\n",
    "    other_gene_data = data[data['gene'] == other_gene]['value_gene_selected']\n",
    "    correlation, pvalue, logpvalue = calculate_correlation(selected_gene_data, other_gene_data)\n",
    "    return {'SELECTED_GENE': GENE_SELECTED, 'EVALUATED_GENE': other_gene, 'CORRELATION': correlation, 'PVALUE': pvalue, 'LOGPVALUE': logpvalue}\n",
    "\n",
    "# concurrent.futures to parallelize the computation\n",
    "with concurrent.futures.ProcessPoolExecutor() as executor:\n",
    "    for gene_count, result in enumerate(executor.map(calculate_gene_correlations, unique_genes), 1):\n",
    "        correlations.append(result)\n",
    "        \n",
    "        # Print progress \n",
    "        if gene_count % 1000 == 0:\n",
    "            print(f\"Computed correlations for {gene_count} / {len(unique_genes)} genes.\")\n",
    "\n",
    "\n",
    "results = pd.DataFrame(correlations)\n",
    "FILENAME = \"../output/correlations/correlations_\" + GENE_SELECTED + \"_by_chr.csv\"\n",
    "\n",
    "# Save the results to a CSV file\n",
    "results.to_csv(FILENAME, index=False)\n",
    "\n",
    "# Display the first few rows of the results\n",
    "results.head()"
   ]
  }
 ],
 "metadata": {
  "kernelspec": {
   "display_name": "mbgproject",
   "language": "python",
   "name": "python3"
  },
  "language_info": {
   "codemirror_mode": {
    "name": "ipython",
    "version": 3
   },
   "file_extension": ".py",
   "mimetype": "text/x-python",
   "name": "python",
   "nbconvert_exporter": "python",
   "pygments_lexer": "ipython3",
   "version": "3.10.12"
  },
  "orig_nbformat": 4
 },
 "nbformat": 4,
 "nbformat_minor": 2
}
