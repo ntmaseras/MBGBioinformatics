{
 "cells": [
  {
   "cell_type": "code",
   "execution_count": 7,
   "metadata": {},
   "outputs": [],
   "source": [
    "import os\n",
    "import numpy as np\n",
    "import pandas as pd\n",
    "from scipy.stats import pearsonr\n",
    "import seaborn as sns\n",
    "import matplotlib.pyplot as plt\n",
    "import concurrent.futures\n",
    "import argparse\n",
    "\n",
    "\n",
    "# Function to clean and preprocess Achilles data\n",
    "def clean_achilles_data(data):\n",
    "    # Drop rows with missing values\n",
    "    data = data.dropna()\n",
    "    \n",
    "    # Replace spaces and remove parentheses from column names\n",
    "    data.columns = data.columns.str.replace(\" \", \"_\").str.replace(\"[()]\", \"\", regex=True)\n",
    "    \n",
    "    # Melt the DataFrame\n",
    "    data_clean = pd.melt(data, id_vars=[\"DepMap_ID\"], var_name=\"genes\", value_name=\"value_gene_selected\")\n",
    "    data_clean[['gene', 'gene_id']] = data_clean['genes'].str.split('_', expand=True)\n",
    "    data_clean.drop(columns=['genes'], inplace = True)\n",
    "    \n",
    "    return data_clean\n",
    "\n",
    "# Function to clean and preprocess the map data\n",
    "def clean_map_data(map_data):\n",
    "    # Split and extract relevant information\n",
    "    map_data[['chromosome', 'avg_pos', '_']] = map_data['genome_alignment'].str.split('_', expand=True)\n",
    "    map_data[['gene', 'gene_id']] = map_data['gene'].str.split(' ', expand=True)\n",
    "    map_data['gene_id'] = map_data['gene_id'].str.replace(\"[()]\", \"\", regex=True)\n",
    "    \n",
    "    return map_data\n",
    "\n",
    "# Function to calculate Pearson correlations\n",
    "def calculate_correlation(selected_gene, other_gene_data):\n",
    "    correlation, pvalue = pearsonr(selected_gene, other_gene_data)\n",
    "    return correlation, pvalue, -np.log10(pvalue)\n",
    "\n",
    "\n",
    "# Function to calculate correlations for a single gene\n",
    "def calculate_gene_correlations(GENE_SELECTED, data, selected_gene_data, unique_genes):\n",
    "    correlations = []\n",
    "    print(\"Starting to compute gene dependency for \" + GENE_SELECTED)\n",
    "    \n",
    "    def calculate_single_gene_correlation(other_gene):\n",
    "        other_gene_data = data[data['gene'] == other_gene]['value_gene_selected']\n",
    "        correlation, pvalue, logpvalue = calculate_correlation(selected_gene_data, other_gene_data)\n",
    "        return {'SELECTED_GENE': GENE_SELECTED, 'EVALUATED_GENE': other_gene, 'CORRELATION': correlation, 'PVALUE': pvalue, 'LOGPVALUE': logpvalue}\n",
    "    \n",
    "    # Parallelize the computation\n",
    "    with concurrent.futures.ProcessPoolExecutor() as executor:\n",
    "        for gene_count, result in enumerate(executor.map(calculate_single_gene_correlation, unique_genes), 1):\n",
    "            correlations.append(result)\n",
    "            \n",
    "            # Print progress\n",
    "            if gene_count % 1000 == 0:\n",
    "                print(f\"Computed correlations for {gene_count} / {len(unique_genes)} genes.\")\n",
    "    \n",
    "    return correlations\n",
    "\n",
    "# Function to save results to a CSV file\n",
    "def save_correlation_results(correlations, GENE_SELECTED):\n",
    "    results = pd.DataFrame(correlations)\n",
    "    FILENAME = \"../output/correlations/correlations_\" + GENE_SELECTED + \"_by_chr.csv\"\n",
    "    # Save the results to a CSV file\n",
    "    results.to_csv(FILENAME, index=False)\n",
    "\n"
   ]
  },
  {
   "cell_type": "code",
   "execution_count": 8,
   "metadata": {},
   "outputs": [],
   "source": [
    "GENE_SELECTED = \"DROSHA\"\n",
    "\n",
    "# Call functions to perform data processing\n",
    "map_file = '../data/Achilles_guide_map.csv'\n",
    "data_file = '../data/20Q4v2_Achilles_gene_effect_.csv'\n",
    "\n",
    "# Call functions to perform data processing\n",
    "map_data = pd.read_csv(map_file)\n",
    "achilles_data = pd.read_csv(data_file)\n",
    "\n",
    "achilles_clean = clean_achilles_data(achilles_data)\n",
    "map_clean = clean_map_data(map_data)\n"
   ]
  },
  {
   "cell_type": "code",
   "execution_count": 9,
   "metadata": {},
   "outputs": [
    {
     "name": "stdout",
     "output_type": "stream",
     "text": [
      "Starting to compute gene dependency for DROSHA\n"
     ]
    },
    {
     "ename": "KeyboardInterrupt",
     "evalue": "",
     "output_type": "error",
     "traceback": [
      "\u001b[0;31m---------------------------------------------------------------------------\u001b[0m",
      "\u001b[0;31m_RemoteTraceback\u001b[0m                          Traceback (most recent call last)",
      "\u001b[0;31m_RemoteTraceback\u001b[0m: \n\"\"\"\nTraceback (most recent call last):\n  File \"/home/nonatorruella/exit/envs/mbgproject/lib/python3.10/multiprocessing/queues.py\", line 244, in _feed\n    obj = _ForkingPickler.dumps(obj)\n  File \"/home/nonatorruella/exit/envs/mbgproject/lib/python3.10/multiprocessing/reduction.py\", line 51, in dumps\n    cls(buf, protocol).dump(obj)\nAttributeError: Can't pickle local object 'calculate_gene_correlations.<locals>.calculate_single_gene_correlation'\n\"\"\"",
      "\nThe above exception was the direct cause of the following exception:\n",
      "\u001b[0;31mAttributeError\u001b[0m                            Traceback (most recent call last)",
      "Cell \u001b[0;32mIn[7], line 53\u001b[0m, in \u001b[0;36mcalculate_gene_correlations\u001b[0;34m(GENE_SELECTED, data, selected_gene_data, unique_genes)\u001b[0m\n\u001b[1;32m     52\u001b[0m \u001b[39mwith\u001b[39;00m concurrent\u001b[39m.\u001b[39mfutures\u001b[39m.\u001b[39mProcessPoolExecutor() \u001b[39mas\u001b[39;00m executor:\n\u001b[0;32m---> 53\u001b[0m     \u001b[39mfor\u001b[39;00m gene_count, result \u001b[39min\u001b[39;00m \u001b[39menumerate\u001b[39m(executor\u001b[39m.\u001b[39mmap(calculate_single_gene_correlation, unique_genes), \u001b[39m1\u001b[39m):\n\u001b[1;32m     54\u001b[0m         correlations\u001b[39m.\u001b[39mappend(result)\n",
      "File \u001b[0;32m~/exit/envs/mbgproject/lib/python3.10/concurrent/futures/process.py:575\u001b[0m, in \u001b[0;36m_chain_from_iterable_of_lists\u001b[0;34m(iterable)\u001b[0m\n\u001b[1;32m    570\u001b[0m \u001b[39m\u001b[39m\u001b[39m\"\"\"\u001b[39;00m\n\u001b[1;32m    571\u001b[0m \u001b[39mSpecialized implementation of itertools.chain.from_iterable.\u001b[39;00m\n\u001b[1;32m    572\u001b[0m \u001b[39mEach item in *iterable* should be a list.  This function is\u001b[39;00m\n\u001b[1;32m    573\u001b[0m \u001b[39mcareful not to keep references to yielded objects.\u001b[39;00m\n\u001b[1;32m    574\u001b[0m \u001b[39m\"\"\"\u001b[39;00m\n\u001b[0;32m--> 575\u001b[0m \u001b[39mfor\u001b[39;00m element \u001b[39min\u001b[39;00m iterable:\n\u001b[1;32m    576\u001b[0m     element\u001b[39m.\u001b[39mreverse()\n",
      "File \u001b[0;32m~/exit/envs/mbgproject/lib/python3.10/concurrent/futures/_base.py:621\u001b[0m, in \u001b[0;36mExecutor.map.<locals>.result_iterator\u001b[0;34m()\u001b[0m\n\u001b[1;32m    620\u001b[0m \u001b[39mif\u001b[39;00m timeout \u001b[39mis\u001b[39;00m \u001b[39mNone\u001b[39;00m:\n\u001b[0;32m--> 621\u001b[0m     \u001b[39myield\u001b[39;00m _result_or_cancel(fs\u001b[39m.\u001b[39;49mpop())\n\u001b[1;32m    622\u001b[0m \u001b[39melse\u001b[39;00m:\n",
      "File \u001b[0;32m~/exit/envs/mbgproject/lib/python3.10/concurrent/futures/_base.py:319\u001b[0m, in \u001b[0;36m_result_or_cancel\u001b[0;34m(***failed resolving arguments***)\u001b[0m\n\u001b[1;32m    318\u001b[0m \u001b[39mtry\u001b[39;00m:\n\u001b[0;32m--> 319\u001b[0m     \u001b[39mreturn\u001b[39;00m fut\u001b[39m.\u001b[39;49mresult(timeout)\n\u001b[1;32m    320\u001b[0m \u001b[39mfinally\u001b[39;00m:\n",
      "File \u001b[0;32m~/exit/envs/mbgproject/lib/python3.10/concurrent/futures/_base.py:451\u001b[0m, in \u001b[0;36mFuture.result\u001b[0;34m(self, timeout)\u001b[0m\n\u001b[1;32m    450\u001b[0m \u001b[39melif\u001b[39;00m \u001b[39mself\u001b[39m\u001b[39m.\u001b[39m_state \u001b[39m==\u001b[39m FINISHED:\n\u001b[0;32m--> 451\u001b[0m     \u001b[39mreturn\u001b[39;00m \u001b[39mself\u001b[39;49m\u001b[39m.\u001b[39;49m__get_result()\n\u001b[1;32m    453\u001b[0m \u001b[39mself\u001b[39m\u001b[39m.\u001b[39m_condition\u001b[39m.\u001b[39mwait(timeout)\n",
      "File \u001b[0;32m~/exit/envs/mbgproject/lib/python3.10/concurrent/futures/_base.py:403\u001b[0m, in \u001b[0;36mFuture.__get_result\u001b[0;34m(self)\u001b[0m\n\u001b[1;32m    402\u001b[0m \u001b[39mtry\u001b[39;00m:\n\u001b[0;32m--> 403\u001b[0m     \u001b[39mraise\u001b[39;00m \u001b[39mself\u001b[39m\u001b[39m.\u001b[39m_exception\n\u001b[1;32m    404\u001b[0m \u001b[39mfinally\u001b[39;00m:\n\u001b[1;32m    405\u001b[0m     \u001b[39m# Break a reference cycle with the exception in self._exception\u001b[39;00m\n",
      "File \u001b[0;32m~/exit/envs/mbgproject/lib/python3.10/multiprocessing/queues.py:244\u001b[0m, in \u001b[0;36mQueue._feed\u001b[0;34m(buffer, notempty, send_bytes, writelock, reader_close, writer_close, ignore_epipe, onerror, queue_sem)\u001b[0m\n\u001b[1;32m    243\u001b[0m \u001b[39m# serialize the data before acquiring the lock\u001b[39;00m\n\u001b[0;32m--> 244\u001b[0m obj \u001b[39m=\u001b[39m _ForkingPickler\u001b[39m.\u001b[39;49mdumps(obj)\n\u001b[1;32m    245\u001b[0m \u001b[39mif\u001b[39;00m wacquire \u001b[39mis\u001b[39;00m \u001b[39mNone\u001b[39;00m:\n",
      "File \u001b[0;32m~/exit/envs/mbgproject/lib/python3.10/multiprocessing/reduction.py:51\u001b[0m, in \u001b[0;36mForkingPickler.dumps\u001b[0;34m(cls, obj, protocol)\u001b[0m\n\u001b[1;32m     50\u001b[0m buf \u001b[39m=\u001b[39m io\u001b[39m.\u001b[39mBytesIO()\n\u001b[0;32m---> 51\u001b[0m \u001b[39mcls\u001b[39;49m(buf, protocol)\u001b[39m.\u001b[39;49mdump(obj)\n\u001b[1;32m     52\u001b[0m \u001b[39mreturn\u001b[39;00m buf\u001b[39m.\u001b[39mgetbuffer()\n",
      "\u001b[0;31mAttributeError\u001b[0m: Can't pickle local object 'calculate_gene_correlations.<locals>.calculate_single_gene_correlation'",
      "\nDuring handling of the above exception, another exception occurred:\n",
      "\u001b[0;31mKeyboardInterrupt\u001b[0m                         Traceback (most recent call last)",
      "Cell \u001b[0;32mIn[9], line 5\u001b[0m\n\u001b[1;32m      1\u001b[0m unique_genes \u001b[39m=\u001b[39m achilles_clean[\u001b[39m'\u001b[39m\u001b[39mgene\u001b[39m\u001b[39m'\u001b[39m]\u001b[39m.\u001b[39munique()\n\u001b[1;32m      3\u001b[0m selected_gene_data \u001b[39m=\u001b[39m achilles_clean[achilles_clean[\u001b[39m'\u001b[39m\u001b[39mgene\u001b[39m\u001b[39m'\u001b[39m] \u001b[39m==\u001b[39m GENE_SELECTED][\u001b[39m'\u001b[39m\u001b[39mvalue_gene_selected\u001b[39m\u001b[39m'\u001b[39m]\n\u001b[0;32m----> 5\u001b[0m correlations \u001b[39m=\u001b[39m calculate_gene_correlations(GENE_SELECTED, achilles_clean, selected_gene_data, unique_genes)\n\u001b[1;32m      7\u001b[0m \u001b[39m# Save the results to a CSV file\u001b[39;00m\n\u001b[1;32m      8\u001b[0m \u001b[39m#save_correlation_results(correlations, GENE_SELECTED)\u001b[39;00m\n",
      "Cell \u001b[0;32mIn[7], line 52\u001b[0m, in \u001b[0;36mcalculate_gene_correlations\u001b[0;34m(GENE_SELECTED, data, selected_gene_data, unique_genes)\u001b[0m\n\u001b[1;32m     49\u001b[0m     \u001b[39mreturn\u001b[39;00m {\u001b[39m'\u001b[39m\u001b[39mSELECTED_GENE\u001b[39m\u001b[39m'\u001b[39m: GENE_SELECTED, \u001b[39m'\u001b[39m\u001b[39mEVALUATED_GENE\u001b[39m\u001b[39m'\u001b[39m: other_gene, \u001b[39m'\u001b[39m\u001b[39mCORRELATION\u001b[39m\u001b[39m'\u001b[39m: correlation, \u001b[39m'\u001b[39m\u001b[39mPVALUE\u001b[39m\u001b[39m'\u001b[39m: pvalue, \u001b[39m'\u001b[39m\u001b[39mLOGPVALUE\u001b[39m\u001b[39m'\u001b[39m: logpvalue}\n\u001b[1;32m     51\u001b[0m \u001b[39m# Parallelize the computation\u001b[39;00m\n\u001b[0;32m---> 52\u001b[0m \u001b[39mwith\u001b[39;00m concurrent\u001b[39m.\u001b[39mfutures\u001b[39m.\u001b[39mProcessPoolExecutor() \u001b[39mas\u001b[39;00m executor:\n\u001b[1;32m     53\u001b[0m     \u001b[39mfor\u001b[39;00m gene_count, result \u001b[39min\u001b[39;00m \u001b[39menumerate\u001b[39m(executor\u001b[39m.\u001b[39mmap(calculate_single_gene_correlation, unique_genes), \u001b[39m1\u001b[39m):\n\u001b[1;32m     54\u001b[0m         correlations\u001b[39m.\u001b[39mappend(result)\n",
      "File \u001b[0;32m~/exit/envs/mbgproject/lib/python3.10/concurrent/futures/_base.py:649\u001b[0m, in \u001b[0;36mExecutor.__exit__\u001b[0;34m(self, exc_type, exc_val, exc_tb)\u001b[0m\n\u001b[1;32m    648\u001b[0m \u001b[39mdef\u001b[39;00m \u001b[39m__exit__\u001b[39m(\u001b[39mself\u001b[39m, exc_type, exc_val, exc_tb):\n\u001b[0;32m--> 649\u001b[0m     \u001b[39mself\u001b[39;49m\u001b[39m.\u001b[39;49mshutdown(wait\u001b[39m=\u001b[39;49m\u001b[39mTrue\u001b[39;49;00m)\n\u001b[1;32m    650\u001b[0m     \u001b[39mreturn\u001b[39;00m \u001b[39mFalse\u001b[39;00m\n",
      "File \u001b[0;32m~/exit/envs/mbgproject/lib/python3.10/concurrent/futures/process.py:780\u001b[0m, in \u001b[0;36mProcessPoolExecutor.shutdown\u001b[0;34m(self, wait, cancel_futures)\u001b[0m\n\u001b[1;32m    777\u001b[0m         \u001b[39mself\u001b[39m\u001b[39m.\u001b[39m_executor_manager_thread_wakeup\u001b[39m.\u001b[39mwakeup()\n\u001b[1;32m    779\u001b[0m \u001b[39mif\u001b[39;00m \u001b[39mself\u001b[39m\u001b[39m.\u001b[39m_executor_manager_thread \u001b[39mis\u001b[39;00m \u001b[39mnot\u001b[39;00m \u001b[39mNone\u001b[39;00m \u001b[39mand\u001b[39;00m wait:\n\u001b[0;32m--> 780\u001b[0m     \u001b[39mself\u001b[39;49m\u001b[39m.\u001b[39;49m_executor_manager_thread\u001b[39m.\u001b[39;49mjoin()\n\u001b[1;32m    781\u001b[0m \u001b[39m# To reduce the risk of opening too many files, remove references to\u001b[39;00m\n\u001b[1;32m    782\u001b[0m \u001b[39m# objects that use file descriptors.\u001b[39;00m\n\u001b[1;32m    783\u001b[0m \u001b[39mself\u001b[39m\u001b[39m.\u001b[39m_executor_manager_thread \u001b[39m=\u001b[39m \u001b[39mNone\u001b[39;00m\n",
      "File \u001b[0;32m~/exit/envs/mbgproject/lib/python3.10/threading.py:1096\u001b[0m, in \u001b[0;36mThread.join\u001b[0;34m(self, timeout)\u001b[0m\n\u001b[1;32m   1093\u001b[0m     \u001b[39mraise\u001b[39;00m \u001b[39mRuntimeError\u001b[39;00m(\u001b[39m\"\u001b[39m\u001b[39mcannot join current thread\u001b[39m\u001b[39m\"\u001b[39m)\n\u001b[1;32m   1095\u001b[0m \u001b[39mif\u001b[39;00m timeout \u001b[39mis\u001b[39;00m \u001b[39mNone\u001b[39;00m:\n\u001b[0;32m-> 1096\u001b[0m     \u001b[39mself\u001b[39;49m\u001b[39m.\u001b[39;49m_wait_for_tstate_lock()\n\u001b[1;32m   1097\u001b[0m \u001b[39melse\u001b[39;00m:\n\u001b[1;32m   1098\u001b[0m     \u001b[39m# the behavior of a negative timeout isn't documented, but\u001b[39;00m\n\u001b[1;32m   1099\u001b[0m     \u001b[39m# historically .join(timeout=x) for x<0 has acted as if timeout=0\u001b[39;00m\n\u001b[1;32m   1100\u001b[0m     \u001b[39mself\u001b[39m\u001b[39m.\u001b[39m_wait_for_tstate_lock(timeout\u001b[39m=\u001b[39m\u001b[39mmax\u001b[39m(timeout, \u001b[39m0\u001b[39m))\n",
      "File \u001b[0;32m~/exit/envs/mbgproject/lib/python3.10/threading.py:1116\u001b[0m, in \u001b[0;36mThread._wait_for_tstate_lock\u001b[0;34m(self, block, timeout)\u001b[0m\n\u001b[1;32m   1113\u001b[0m     \u001b[39mreturn\u001b[39;00m\n\u001b[1;32m   1115\u001b[0m \u001b[39mtry\u001b[39;00m:\n\u001b[0;32m-> 1116\u001b[0m     \u001b[39mif\u001b[39;00m lock\u001b[39m.\u001b[39;49macquire(block, timeout):\n\u001b[1;32m   1117\u001b[0m         lock\u001b[39m.\u001b[39mrelease()\n\u001b[1;32m   1118\u001b[0m         \u001b[39mself\u001b[39m\u001b[39m.\u001b[39m_stop()\n",
      "\u001b[0;31mKeyboardInterrupt\u001b[0m: "
     ]
    }
   ],
   "source": [
    "\n",
    "unique_genes = achilles_clean['gene'].unique()\n",
    "\n",
    "selected_gene_data = achilles_clean[achilles_clean['gene'] == GENE_SELECTED]['value_gene_selected']\n",
    "\n",
    "correlations = calculate_gene_correlations(GENE_SELECTED, achilles_clean, selected_gene_data, unique_genes)\n",
    "\n",
    "# Save the results to a CSV file\n",
    "#save_correlation_results(correlations, GENE_SELECTED)\n"
   ]
  },
  {
   "cell_type": "code",
   "execution_count": null,
   "metadata": {},
   "outputs": [],
   "source": []
  }
 ],
 "metadata": {
  "kernelspec": {
   "display_name": "mbgproject",
   "language": "python",
   "name": "python3"
  },
  "language_info": {
   "codemirror_mode": {
    "name": "ipython",
    "version": 3
   },
   "file_extension": ".py",
   "mimetype": "text/x-python",
   "name": "python",
   "nbconvert_exporter": "python",
   "pygments_lexer": "ipython3",
   "version": "3.10.12"
  },
  "orig_nbformat": 4
 },
 "nbformat": 4,
 "nbformat_minor": 2
}
