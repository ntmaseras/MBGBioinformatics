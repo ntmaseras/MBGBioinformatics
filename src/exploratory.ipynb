{
 "cells": [
  {
   "cell_type": "code",
   "execution_count": 2,
   "metadata": {},
   "outputs": [],
   "source": [
    "GENE_SELECTED = \"DIS3L2\"\n"
   ]
  },
  {
   "cell_type": "code",
   "execution_count": 3,
   "metadata": {},
   "outputs": [],
   "source": [
    "import os\n",
    "import numpy as np\n",
    "import pandas as pd\n",
    "from scipy.stats import pearsonr\n",
    "import seaborn as sns\n",
    "import matplotlib.pyplot as plt\n",
    "from scipy.stats import pearsonr\n",
    "import concurrent.futures\n",
    "sns.set(style=\"whitegrid\")"
   ]
  },
  {
   "cell_type": "code",
   "execution_count": 4,
   "metadata": {},
   "outputs": [],
   "source": [
    "map_file = '../data/Achilles_guide_map.csv'\n",
    "data_file = '../data/20Q4v2_Achilles_gene_effect.csv'\n",
    "map = pd.read_csv(map_file)\n",
    "achilles = pd.read_csv(data_file)"
   ]
  },
  {
   "attachments": {},
   "cell_type": "markdown",
   "metadata": {},
   "source": [
    "Let's see the files"
   ]
  },
  {
   "cell_type": "code",
   "execution_count": 5,
   "metadata": {},
   "outputs": [
    {
     "data": {
      "text/html": [
       "<div>\n",
       "<style scoped>\n",
       "    .dataframe tbody tr th:only-of-type {\n",
       "        vertical-align: middle;\n",
       "    }\n",
       "\n",
       "    .dataframe tbody tr th {\n",
       "        vertical-align: top;\n",
       "    }\n",
       "\n",
       "    .dataframe thead th {\n",
       "        text-align: right;\n",
       "    }\n",
       "</style>\n",
       "<table border=\"1\" class=\"dataframe\">\n",
       "  <thead>\n",
       "    <tr style=\"text-align: right;\">\n",
       "      <th></th>\n",
       "      <th>sgrna</th>\n",
       "      <th>genome_alignment</th>\n",
       "      <th>gene</th>\n",
       "      <th>n_alignments</th>\n",
       "    </tr>\n",
       "  </thead>\n",
       "  <tbody>\n",
       "    <tr>\n",
       "      <th>0</th>\n",
       "      <td>AAAAAAATCCAGCAATGCAG</td>\n",
       "      <td>chr10_110964620_+</td>\n",
       "      <td>SHOC2 (8036)</td>\n",
       "      <td>1</td>\n",
       "    </tr>\n",
       "    <tr>\n",
       "      <th>1</th>\n",
       "      <td>AAAAAACCCGTAGATAGCCT</td>\n",
       "      <td>chr12_95003615_+</td>\n",
       "      <td>NDUFA12 (55967)</td>\n",
       "      <td>1</td>\n",
       "    </tr>\n",
       "  </tbody>\n",
       "</table>\n",
       "</div>"
      ],
      "text/plain": [
       "                  sgrna   genome_alignment             gene  n_alignments\n",
       "0  AAAAAAATCCAGCAATGCAG  chr10_110964620_+     SHOC2 (8036)             1\n",
       "1  AAAAAACCCGTAGATAGCCT   chr12_95003615_+  NDUFA12 (55967)             1"
      ]
     },
     "execution_count": 5,
     "metadata": {},
     "output_type": "execute_result"
    }
   ],
   "source": [
    "map.head(2)"
   ]
  },
  {
   "cell_type": "code",
   "execution_count": 6,
   "metadata": {},
   "outputs": [
    {
     "data": {
      "text/plain": [
       "(74362, 4)"
      ]
     },
     "execution_count": 6,
     "metadata": {},
     "output_type": "execute_result"
    }
   ],
   "source": [
    "map.shape"
   ]
  },
  {
   "cell_type": "code",
   "execution_count": 7,
   "metadata": {},
   "outputs": [
    {
     "data": {
      "text/html": [
       "<div>\n",
       "<style scoped>\n",
       "    .dataframe tbody tr th:only-of-type {\n",
       "        vertical-align: middle;\n",
       "    }\n",
       "\n",
       "    .dataframe tbody tr th {\n",
       "        vertical-align: top;\n",
       "    }\n",
       "\n",
       "    .dataframe thead th {\n",
       "        text-align: right;\n",
       "    }\n",
       "</style>\n",
       "<table border=\"1\" class=\"dataframe\">\n",
       "  <thead>\n",
       "    <tr style=\"text-align: right;\">\n",
       "      <th></th>\n",
       "      <th>DepMap_ID</th>\n",
       "      <th>A1BG (1)</th>\n",
       "      <th>A1CF (29974)</th>\n",
       "      <th>A2M (2)</th>\n",
       "      <th>A2ML1 (144568)</th>\n",
       "      <th>A3GALT2 (127550)</th>\n",
       "      <th>A4GALT (53947)</th>\n",
       "      <th>A4GNT (51146)</th>\n",
       "      <th>AAAS (8086)</th>\n",
       "      <th>AACS (65985)</th>\n",
       "      <th>...</th>\n",
       "      <th>ZWILCH (55055)</th>\n",
       "      <th>ZWINT (11130)</th>\n",
       "      <th>ZXDA (7789)</th>\n",
       "      <th>ZXDB (158586)</th>\n",
       "      <th>ZXDC (79364)</th>\n",
       "      <th>ZYG11A (440590)</th>\n",
       "      <th>ZYG11B (79699)</th>\n",
       "      <th>ZYX (7791)</th>\n",
       "      <th>ZZEF1 (23140)</th>\n",
       "      <th>ZZZ3 (26009)</th>\n",
       "    </tr>\n",
       "  </thead>\n",
       "  <tbody>\n",
       "    <tr>\n",
       "      <th>0</th>\n",
       "      <td>ACH-000004</td>\n",
       "      <td>0.181332</td>\n",
       "      <td>0.089101</td>\n",
       "      <td>-0.193867</td>\n",
       "      <td>-0.024587</td>\n",
       "      <td>0.038458</td>\n",
       "      <td>-0.181824</td>\n",
       "      <td>0.351672</td>\n",
       "      <td>-0.440073</td>\n",
       "      <td>0.292582</td>\n",
       "      <td>...</td>\n",
       "      <td>-0.124218</td>\n",
       "      <td>-0.469306</td>\n",
       "      <td>NaN</td>\n",
       "      <td>NaN</td>\n",
       "      <td>0.257361</td>\n",
       "      <td>0.244834</td>\n",
       "      <td>-0.408512</td>\n",
       "      <td>0.284734</td>\n",
       "      <td>0.226412</td>\n",
       "      <td>-0.149566</td>\n",
       "    </tr>\n",
       "    <tr>\n",
       "      <th>1</th>\n",
       "      <td>ACH-000005</td>\n",
       "      <td>-0.076383</td>\n",
       "      <td>0.245190</td>\n",
       "      <td>0.191238</td>\n",
       "      <td>0.153008</td>\n",
       "      <td>-0.197035</td>\n",
       "      <td>-0.323295</td>\n",
       "      <td>0.252522</td>\n",
       "      <td>-0.571498</td>\n",
       "      <td>-0.068945</td>\n",
       "      <td>...</td>\n",
       "      <td>-0.212442</td>\n",
       "      <td>-0.426151</td>\n",
       "      <td>-0.068295</td>\n",
       "      <td>0.031635</td>\n",
       "      <td>0.205469</td>\n",
       "      <td>-0.068536</td>\n",
       "      <td>-0.092858</td>\n",
       "      <td>0.074640</td>\n",
       "      <td>0.028779</td>\n",
       "      <td>-0.264840</td>\n",
       "    </tr>\n",
       "  </tbody>\n",
       "</table>\n",
       "<p>2 rows × 18120 columns</p>\n",
       "</div>"
      ],
      "text/plain": [
       "    DepMap_ID  A1BG (1)  A1CF (29974)   A2M (2)  A2ML1 (144568)  \\\n",
       "0  ACH-000004  0.181332      0.089101 -0.193867       -0.024587   \n",
       "1  ACH-000005 -0.076383      0.245190  0.191238        0.153008   \n",
       "\n",
       "   A3GALT2 (127550)  A4GALT (53947)  A4GNT (51146)  AAAS (8086)  AACS (65985)  \\\n",
       "0          0.038458       -0.181824       0.351672    -0.440073      0.292582   \n",
       "1         -0.197035       -0.323295       0.252522    -0.571498     -0.068945   \n",
       "\n",
       "   ...  ZWILCH (55055)  ZWINT (11130)  ZXDA (7789)  ZXDB (158586)  \\\n",
       "0  ...       -0.124218      -0.469306          NaN            NaN   \n",
       "1  ...       -0.212442      -0.426151    -0.068295       0.031635   \n",
       "\n",
       "   ZXDC (79364)  ZYG11A (440590)  ZYG11B (79699)  ZYX (7791)  ZZEF1 (23140)  \\\n",
       "0      0.257361         0.244834       -0.408512    0.284734       0.226412   \n",
       "1      0.205469        -0.068536       -0.092858    0.074640       0.028779   \n",
       "\n",
       "   ZZZ3 (26009)  \n",
       "0     -0.149566  \n",
       "1     -0.264840  \n",
       "\n",
       "[2 rows x 18120 columns]"
      ]
     },
     "execution_count": 7,
     "metadata": {},
     "output_type": "execute_result"
    }
   ],
   "source": [
    "achilles.head(2)"
   ]
  },
  {
   "cell_type": "code",
   "execution_count": 8,
   "metadata": {},
   "outputs": [
    {
     "data": {
      "text/plain": [
       "(808, 18120)"
      ]
     },
     "execution_count": 8,
     "metadata": {},
     "output_type": "execute_result"
    }
   ],
   "source": [
    "achilles.shape"
   ]
  },
  {
   "attachments": {},
   "cell_type": "markdown",
   "metadata": {},
   "source": [
    "#### Some preprocessing"
   ]
  },
  {
   "cell_type": "code",
   "execution_count": 9,
   "metadata": {},
   "outputs": [
    {
     "name": "stdout",
     "output_type": "stream",
     "text": [
      "<class 'pandas.core.frame.DataFrame'>\n",
      "RangeIndex: 808 entries, 0 to 807\n",
      "Columns: 18120 entries, DepMap_ID to ZZZ3 (26009)\n",
      "dtypes: float64(18119), object(1)\n",
      "memory usage: 111.7+ MB\n"
     ]
    }
   ],
   "source": [
    "achilles.info()"
   ]
  },
  {
   "cell_type": "code",
   "execution_count": 10,
   "metadata": {},
   "outputs": [],
   "source": [
    "achilles = achilles.dropna()"
   ]
  },
  {
   "cell_type": "code",
   "execution_count": 11,
   "metadata": {},
   "outputs": [],
   "source": [
    "\n",
    "achilles.columns = achilles.columns.str.replace(\" \", \"_\").str.replace(\"[()]\", \"\", regex=True)"
   ]
  },
  {
   "cell_type": "code",
   "execution_count": 12,
   "metadata": {},
   "outputs": [
    {
     "data": {
      "text/html": [
       "<div>\n",
       "<style scoped>\n",
       "    .dataframe tbody tr th:only-of-type {\n",
       "        vertical-align: middle;\n",
       "    }\n",
       "\n",
       "    .dataframe tbody tr th {\n",
       "        vertical-align: top;\n",
       "    }\n",
       "\n",
       "    .dataframe thead th {\n",
       "        text-align: right;\n",
       "    }\n",
       "</style>\n",
       "<table border=\"1\" class=\"dataframe\">\n",
       "  <thead>\n",
       "    <tr style=\"text-align: right;\">\n",
       "      <th></th>\n",
       "      <th>DepMap_ID</th>\n",
       "      <th>A1BG_1</th>\n",
       "      <th>A1CF_29974</th>\n",
       "      <th>A2M_2</th>\n",
       "      <th>A2ML1_144568</th>\n",
       "      <th>A3GALT2_127550</th>\n",
       "      <th>A4GALT_53947</th>\n",
       "      <th>A4GNT_51146</th>\n",
       "      <th>AAAS_8086</th>\n",
       "      <th>AACS_65985</th>\n",
       "      <th>...</th>\n",
       "      <th>ZWILCH_55055</th>\n",
       "      <th>ZWINT_11130</th>\n",
       "      <th>ZXDA_7789</th>\n",
       "      <th>ZXDB_158586</th>\n",
       "      <th>ZXDC_79364</th>\n",
       "      <th>ZYG11A_440590</th>\n",
       "      <th>ZYG11B_79699</th>\n",
       "      <th>ZYX_7791</th>\n",
       "      <th>ZZEF1_23140</th>\n",
       "      <th>ZZZ3_26009</th>\n",
       "    </tr>\n",
       "  </thead>\n",
       "  <tbody>\n",
       "    <tr>\n",
       "      <th>1</th>\n",
       "      <td>ACH-000005</td>\n",
       "      <td>-0.076383</td>\n",
       "      <td>0.245190</td>\n",
       "      <td>0.191238</td>\n",
       "      <td>0.153008</td>\n",
       "      <td>-0.197035</td>\n",
       "      <td>-0.323295</td>\n",
       "      <td>0.252522</td>\n",
       "      <td>-0.571498</td>\n",
       "      <td>-0.068945</td>\n",
       "      <td>...</td>\n",
       "      <td>-0.212442</td>\n",
       "      <td>-0.426151</td>\n",
       "      <td>-0.068295</td>\n",
       "      <td>0.031635</td>\n",
       "      <td>0.205469</td>\n",
       "      <td>-0.068536</td>\n",
       "      <td>-0.092858</td>\n",
       "      <td>0.074640</td>\n",
       "      <td>0.028779</td>\n",
       "      <td>-0.264840</td>\n",
       "    </tr>\n",
       "    <tr>\n",
       "      <th>2</th>\n",
       "      <td>ACH-000007</td>\n",
       "      <td>0.102195</td>\n",
       "      <td>0.092449</td>\n",
       "      <td>-0.045926</td>\n",
       "      <td>0.171892</td>\n",
       "      <td>0.140561</td>\n",
       "      <td>0.170971</td>\n",
       "      <td>0.086060</td>\n",
       "      <td>-0.432320</td>\n",
       "      <td>0.010664</td>\n",
       "      <td>...</td>\n",
       "      <td>-0.083183</td>\n",
       "      <td>-0.269196</td>\n",
       "      <td>0.101146</td>\n",
       "      <td>0.277820</td>\n",
       "      <td>0.208814</td>\n",
       "      <td>0.001393</td>\n",
       "      <td>-0.327514</td>\n",
       "      <td>0.048714</td>\n",
       "      <td>-0.372854</td>\n",
       "      <td>-0.433157</td>\n",
       "    </tr>\n",
       "  </tbody>\n",
       "</table>\n",
       "<p>2 rows × 18120 columns</p>\n",
       "</div>"
      ],
      "text/plain": [
       "    DepMap_ID    A1BG_1  A1CF_29974     A2M_2  A2ML1_144568  A3GALT2_127550  \\\n",
       "1  ACH-000005 -0.076383    0.245190  0.191238      0.153008       -0.197035   \n",
       "2  ACH-000007  0.102195    0.092449 -0.045926      0.171892        0.140561   \n",
       "\n",
       "   A4GALT_53947  A4GNT_51146  AAAS_8086  AACS_65985  ...  ZWILCH_55055  \\\n",
       "1     -0.323295     0.252522  -0.571498   -0.068945  ...     -0.212442   \n",
       "2      0.170971     0.086060  -0.432320    0.010664  ...     -0.083183   \n",
       "\n",
       "   ZWINT_11130  ZXDA_7789  ZXDB_158586  ZXDC_79364  ZYG11A_440590  \\\n",
       "1    -0.426151  -0.068295     0.031635    0.205469      -0.068536   \n",
       "2    -0.269196   0.101146     0.277820    0.208814       0.001393   \n",
       "\n",
       "   ZYG11B_79699  ZYX_7791  ZZEF1_23140  ZZZ3_26009  \n",
       "1     -0.092858  0.074640     0.028779   -0.264840  \n",
       "2     -0.327514  0.048714    -0.372854   -0.433157  \n",
       "\n",
       "[2 rows x 18120 columns]"
      ]
     },
     "execution_count": 12,
     "metadata": {},
     "output_type": "execute_result"
    }
   ],
   "source": [
    "achilles.head(2)"
   ]
  },
  {
   "cell_type": "code",
   "execution_count": 13,
   "metadata": {},
   "outputs": [
    {
     "data": {
      "text/html": [
       "<div>\n",
       "<style scoped>\n",
       "    .dataframe tbody tr th:only-of-type {\n",
       "        vertical-align: middle;\n",
       "    }\n",
       "\n",
       "    .dataframe tbody tr th {\n",
       "        vertical-align: top;\n",
       "    }\n",
       "\n",
       "    .dataframe thead th {\n",
       "        text-align: right;\n",
       "    }\n",
       "</style>\n",
       "<table border=\"1\" class=\"dataframe\">\n",
       "  <thead>\n",
       "    <tr style=\"text-align: right;\">\n",
       "      <th></th>\n",
       "      <th>DepMap_ID</th>\n",
       "      <th>genes</th>\n",
       "      <th>value_gene_selected</th>\n",
       "    </tr>\n",
       "  </thead>\n",
       "  <tbody>\n",
       "    <tr>\n",
       "      <th>0</th>\n",
       "      <td>ACH-000005</td>\n",
       "      <td>A1BG_1</td>\n",
       "      <td>-0.076383</td>\n",
       "    </tr>\n",
       "    <tr>\n",
       "      <th>1</th>\n",
       "      <td>ACH-000007</td>\n",
       "      <td>A1BG_1</td>\n",
       "      <td>0.102195</td>\n",
       "    </tr>\n",
       "    <tr>\n",
       "      <th>2</th>\n",
       "      <td>ACH-000009</td>\n",
       "      <td>A1BG_1</td>\n",
       "      <td>0.142342</td>\n",
       "    </tr>\n",
       "    <tr>\n",
       "      <th>3</th>\n",
       "      <td>ACH-000011</td>\n",
       "      <td>A1BG_1</td>\n",
       "      <td>0.280082</td>\n",
       "    </tr>\n",
       "    <tr>\n",
       "      <th>4</th>\n",
       "      <td>ACH-000012</td>\n",
       "      <td>A1BG_1</td>\n",
       "      <td>0.033135</td>\n",
       "    </tr>\n",
       "  </tbody>\n",
       "</table>\n",
       "</div>"
      ],
      "text/plain": [
       "    DepMap_ID   genes  value_gene_selected\n",
       "0  ACH-000005  A1BG_1            -0.076383\n",
       "1  ACH-000007  A1BG_1             0.102195\n",
       "2  ACH-000009  A1BG_1             0.142342\n",
       "3  ACH-000011  A1BG_1             0.280082\n",
       "4  ACH-000012  A1BG_1             0.033135"
      ]
     },
     "execution_count": 13,
     "metadata": {},
     "output_type": "execute_result"
    }
   ],
   "source": [
    "achilles.columns = achilles.columns.str.replace(\" \", \"_\").str.replace(\"[()]\", \"\", regex=True)\n",
    "achilles_clean= pd.melt(achilles, id_vars=[\"DepMap_ID\"], var_name=\"genes\", value_name=\"value_gene_selected\")\n",
    "achilles_clean.head()"
   ]
  },
  {
   "attachments": {},
   "cell_type": "markdown",
   "metadata": {},
   "source": [
    "#### Maybe store the number in other column? "
   ]
  },
  {
   "cell_type": "code",
   "execution_count": 14,
   "metadata": {},
   "outputs": [
    {
     "data": {
      "text/plain": [
       "4125    DIS3L2_129563\n",
       "dtype: object"
      ]
     },
     "execution_count": 14,
     "metadata": {},
     "output_type": "execute_result"
    }
   ],
   "source": [
    "genes = pd.Series(achilles_clean.genes.unique())\n",
    "genes[genes.str.startswith(GENE_SELECTED)]\n"
   ]
  },
  {
   "cell_type": "code",
   "execution_count": 15,
   "metadata": {},
   "outputs": [
    {
     "data": {
      "text/html": [
       "<div>\n",
       "<style scoped>\n",
       "    .dataframe tbody tr th:only-of-type {\n",
       "        vertical-align: middle;\n",
       "    }\n",
       "\n",
       "    .dataframe tbody tr th {\n",
       "        vertical-align: top;\n",
       "    }\n",
       "\n",
       "    .dataframe thead th {\n",
       "        text-align: right;\n",
       "    }\n",
       "</style>\n",
       "<table border=\"1\" class=\"dataframe\">\n",
       "  <thead>\n",
       "    <tr style=\"text-align: right;\">\n",
       "      <th></th>\n",
       "      <th>DepMap_ID</th>\n",
       "      <th>genes</th>\n",
       "      <th>value_gene_selected</th>\n",
       "    </tr>\n",
       "  </thead>\n",
       "  <tbody>\n",
       "    <tr>\n",
       "      <th>3196802</th>\n",
       "      <td>ACH-000005</td>\n",
       "      <td>DICER1_23405</td>\n",
       "      <td>-1.342802</td>\n",
       "    </tr>\n",
       "    <tr>\n",
       "      <th>3196803</th>\n",
       "      <td>ACH-000007</td>\n",
       "      <td>DICER1_23405</td>\n",
       "      <td>-0.993394</td>\n",
       "    </tr>\n",
       "    <tr>\n",
       "      <th>3196804</th>\n",
       "      <td>ACH-000009</td>\n",
       "      <td>DICER1_23405</td>\n",
       "      <td>-0.409258</td>\n",
       "    </tr>\n",
       "    <tr>\n",
       "      <th>3196805</th>\n",
       "      <td>ACH-000011</td>\n",
       "      <td>DICER1_23405</td>\n",
       "      <td>-0.792070</td>\n",
       "    </tr>\n",
       "    <tr>\n",
       "      <th>3196806</th>\n",
       "      <td>ACH-000012</td>\n",
       "      <td>DICER1_23405</td>\n",
       "      <td>-0.786011</td>\n",
       "    </tr>\n",
       "    <tr>\n",
       "      <th>...</th>\n",
       "      <td>...</td>\n",
       "      <td>...</td>\n",
       "      <td>...</td>\n",
       "    </tr>\n",
       "    <tr>\n",
       "      <th>3197575</th>\n",
       "      <td>ACH-002463</td>\n",
       "      <td>DICER1_23405</td>\n",
       "      <td>-0.959784</td>\n",
       "    </tr>\n",
       "    <tr>\n",
       "      <th>3197576</th>\n",
       "      <td>ACH-002464</td>\n",
       "      <td>DICER1_23405</td>\n",
       "      <td>-1.603509</td>\n",
       "    </tr>\n",
       "    <tr>\n",
       "      <th>3197577</th>\n",
       "      <td>ACH-002467</td>\n",
       "      <td>DICER1_23405</td>\n",
       "      <td>-0.777286</td>\n",
       "    </tr>\n",
       "    <tr>\n",
       "      <th>3197578</th>\n",
       "      <td>ACH-002508</td>\n",
       "      <td>DICER1_23405</td>\n",
       "      <td>-1.030868</td>\n",
       "    </tr>\n",
       "    <tr>\n",
       "      <th>3197579</th>\n",
       "      <td>ACH-002510</td>\n",
       "      <td>DICER1_23405</td>\n",
       "      <td>-1.120057</td>\n",
       "    </tr>\n",
       "  </tbody>\n",
       "</table>\n",
       "<p>778 rows × 3 columns</p>\n",
       "</div>"
      ],
      "text/plain": [
       "          DepMap_ID         genes  value_gene_selected\n",
       "3196802  ACH-000005  DICER1_23405            -1.342802\n",
       "3196803  ACH-000007  DICER1_23405            -0.993394\n",
       "3196804  ACH-000009  DICER1_23405            -0.409258\n",
       "3196805  ACH-000011  DICER1_23405            -0.792070\n",
       "3196806  ACH-000012  DICER1_23405            -0.786011\n",
       "...             ...           ...                  ...\n",
       "3197575  ACH-002463  DICER1_23405            -0.959784\n",
       "3197576  ACH-002464  DICER1_23405            -1.603509\n",
       "3197577  ACH-002467  DICER1_23405            -0.777286\n",
       "3197578  ACH-002508  DICER1_23405            -1.030868\n",
       "3197579  ACH-002510  DICER1_23405            -1.120057\n",
       "\n",
       "[778 rows x 3 columns]"
      ]
     },
     "execution_count": 15,
     "metadata": {},
     "output_type": "execute_result"
    }
   ],
   "source": [
    "achilles_clean[achilles_clean.genes == 'DICER1_23405']"
   ]
  },
  {
   "cell_type": "code",
   "execution_count": 16,
   "metadata": {},
   "outputs": [],
   "source": [
    "achilles_clean[['gene', 'gene_id']] = achilles_clean['genes'].str.split('_', expand=True)\n"
   ]
  },
  {
   "cell_type": "code",
   "execution_count": 17,
   "metadata": {},
   "outputs": [
    {
     "data": {
      "text/html": [
       "<div>\n",
       "<style scoped>\n",
       "    .dataframe tbody tr th:only-of-type {\n",
       "        vertical-align: middle;\n",
       "    }\n",
       "\n",
       "    .dataframe tbody tr th {\n",
       "        vertical-align: top;\n",
       "    }\n",
       "\n",
       "    .dataframe thead th {\n",
       "        text-align: right;\n",
       "    }\n",
       "</style>\n",
       "<table border=\"1\" class=\"dataframe\">\n",
       "  <thead>\n",
       "    <tr style=\"text-align: right;\">\n",
       "      <th></th>\n",
       "      <th>DepMap_ID</th>\n",
       "      <th>value_gene_selected</th>\n",
       "      <th>gene</th>\n",
       "      <th>gene_id</th>\n",
       "    </tr>\n",
       "  </thead>\n",
       "  <tbody>\n",
       "    <tr>\n",
       "      <th>0</th>\n",
       "      <td>ACH-000005</td>\n",
       "      <td>-0.076383</td>\n",
       "      <td>A1BG</td>\n",
       "      <td>1</td>\n",
       "    </tr>\n",
       "    <tr>\n",
       "      <th>1</th>\n",
       "      <td>ACH-000007</td>\n",
       "      <td>0.102195</td>\n",
       "      <td>A1BG</td>\n",
       "      <td>1</td>\n",
       "    </tr>\n",
       "    <tr>\n",
       "      <th>2</th>\n",
       "      <td>ACH-000009</td>\n",
       "      <td>0.142342</td>\n",
       "      <td>A1BG</td>\n",
       "      <td>1</td>\n",
       "    </tr>\n",
       "    <tr>\n",
       "      <th>3</th>\n",
       "      <td>ACH-000011</td>\n",
       "      <td>0.280082</td>\n",
       "      <td>A1BG</td>\n",
       "      <td>1</td>\n",
       "    </tr>\n",
       "    <tr>\n",
       "      <th>4</th>\n",
       "      <td>ACH-000012</td>\n",
       "      <td>0.033135</td>\n",
       "      <td>A1BG</td>\n",
       "      <td>1</td>\n",
       "    </tr>\n",
       "  </tbody>\n",
       "</table>\n",
       "</div>"
      ],
      "text/plain": [
       "    DepMap_ID  value_gene_selected  gene gene_id\n",
       "0  ACH-000005            -0.076383  A1BG       1\n",
       "1  ACH-000007             0.102195  A1BG       1\n",
       "2  ACH-000009             0.142342  A1BG       1\n",
       "3  ACH-000011             0.280082  A1BG       1\n",
       "4  ACH-000012             0.033135  A1BG       1"
      ]
     },
     "execution_count": 17,
     "metadata": {},
     "output_type": "execute_result"
    }
   ],
   "source": [
    "achilles_clean.drop(columns=['genes'], inplace = True)\n",
    "achilles_clean.head()"
   ]
  },
  {
   "cell_type": "code",
   "execution_count": 18,
   "metadata": {},
   "outputs": [
    {
     "data": {
      "text/plain": [
       "(14096582, 4)"
      ]
     },
     "execution_count": 18,
     "metadata": {},
     "output_type": "execute_result"
    }
   ],
   "source": [
    "achilles_clean.shape"
   ]
  },
  {
   "cell_type": "code",
   "execution_count": 19,
   "metadata": {},
   "outputs": [
    {
     "data": {
      "text/html": [
       "<div>\n",
       "<style scoped>\n",
       "    .dataframe tbody tr th:only-of-type {\n",
       "        vertical-align: middle;\n",
       "    }\n",
       "\n",
       "    .dataframe tbody tr th {\n",
       "        vertical-align: top;\n",
       "    }\n",
       "\n",
       "    .dataframe thead th {\n",
       "        text-align: right;\n",
       "    }\n",
       "</style>\n",
       "<table border=\"1\" class=\"dataframe\">\n",
       "  <thead>\n",
       "    <tr style=\"text-align: right;\">\n",
       "      <th></th>\n",
       "      <th>sgrna</th>\n",
       "      <th>genome_alignment</th>\n",
       "      <th>gene</th>\n",
       "      <th>n_alignments</th>\n",
       "      <th>chromosome</th>\n",
       "      <th>avg_pos</th>\n",
       "      <th>_</th>\n",
       "      <th>gene_id</th>\n",
       "    </tr>\n",
       "  </thead>\n",
       "  <tbody>\n",
       "    <tr>\n",
       "      <th>0</th>\n",
       "      <td>AAAAAAATCCAGCAATGCAG</td>\n",
       "      <td>chr10_110964620_+</td>\n",
       "      <td>SHOC2</td>\n",
       "      <td>1</td>\n",
       "      <td>chr10</td>\n",
       "      <td>110964620</td>\n",
       "      <td>+</td>\n",
       "      <td>8036</td>\n",
       "    </tr>\n",
       "    <tr>\n",
       "      <th>1</th>\n",
       "      <td>AAAAAACCCGTAGATAGCCT</td>\n",
       "      <td>chr12_95003615_+</td>\n",
       "      <td>NDUFA12</td>\n",
       "      <td>1</td>\n",
       "      <td>chr12</td>\n",
       "      <td>95003615</td>\n",
       "      <td>+</td>\n",
       "      <td>55967</td>\n",
       "    </tr>\n",
       "    <tr>\n",
       "      <th>2</th>\n",
       "      <td>AAAAAAGAAGAAAAAACCAG</td>\n",
       "      <td>chr4_75970356_-</td>\n",
       "      <td>SDAD1</td>\n",
       "      <td>1</td>\n",
       "      <td>chr4</td>\n",
       "      <td>75970356</td>\n",
       "      <td>-</td>\n",
       "      <td>55153</td>\n",
       "    </tr>\n",
       "    <tr>\n",
       "      <th>3</th>\n",
       "      <td>AAAAAAGCTCAAGAAGGAGG</td>\n",
       "      <td>chr2_33588446_-</td>\n",
       "      <td>FAM98A</td>\n",
       "      <td>1</td>\n",
       "      <td>chr2</td>\n",
       "      <td>33588446</td>\n",
       "      <td>-</td>\n",
       "      <td>25940</td>\n",
       "    </tr>\n",
       "    <tr>\n",
       "      <th>4</th>\n",
       "      <td>AAAAAAGGCTGTAAAAGCGT</td>\n",
       "      <td>chr19_19891600_+</td>\n",
       "      <td>ZNF253</td>\n",
       "      <td>1</td>\n",
       "      <td>chr19</td>\n",
       "      <td>19891600</td>\n",
       "      <td>+</td>\n",
       "      <td>56242</td>\n",
       "    </tr>\n",
       "  </tbody>\n",
       "</table>\n",
       "</div>"
      ],
      "text/plain": [
       "                  sgrna   genome_alignment     gene  n_alignments chromosome  \\\n",
       "0  AAAAAAATCCAGCAATGCAG  chr10_110964620_+    SHOC2             1      chr10   \n",
       "1  AAAAAACCCGTAGATAGCCT   chr12_95003615_+  NDUFA12             1      chr12   \n",
       "2  AAAAAAGAAGAAAAAACCAG    chr4_75970356_-    SDAD1             1       chr4   \n",
       "3  AAAAAAGCTCAAGAAGGAGG    chr2_33588446_-   FAM98A             1       chr2   \n",
       "4  AAAAAAGGCTGTAAAAGCGT   chr19_19891600_+   ZNF253             1      chr19   \n",
       "\n",
       "     avg_pos  _ gene_id  \n",
       "0  110964620  +    8036  \n",
       "1   95003615  +   55967  \n",
       "2   75970356  -   55153  \n",
       "3   33588446  -   25940  \n",
       "4   19891600  +   56242  "
      ]
     },
     "execution_count": 19,
     "metadata": {},
     "output_type": "execute_result"
    }
   ],
   "source": [
    "map[['chromosome', 'avg_pos','_']] = map['genome_alignment'].str.split('_', expand=True)\n",
    "map[['gene', 'gene_id']] = map['gene'].str.split(' ', expand=True)\n",
    "map.gene_id = map.gene_id.str.replace(\"[()]\", \"\", regex=True)\n",
    "map.head()"
   ]
  },
  {
   "attachments": {},
   "cell_type": "markdown",
   "metadata": {},
   "source": [
    "#### Let's compute the correlations"
   ]
  },
  {
   "cell_type": "code",
   "execution_count": 20,
   "metadata": {},
   "outputs": [
    {
     "data": {
      "text/html": [
       "<div>\n",
       "<style scoped>\n",
       "    .dataframe tbody tr th:only-of-type {\n",
       "        vertical-align: middle;\n",
       "    }\n",
       "\n",
       "    .dataframe tbody tr th {\n",
       "        vertical-align: top;\n",
       "    }\n",
       "\n",
       "    .dataframe thead th {\n",
       "        text-align: right;\n",
       "    }\n",
       "</style>\n",
       "<table border=\"1\" class=\"dataframe\">\n",
       "  <thead>\n",
       "    <tr style=\"text-align: right;\">\n",
       "      <th></th>\n",
       "      <th>DepMap_ID</th>\n",
       "      <th>value_gene_selected</th>\n",
       "      <th>gene</th>\n",
       "      <th>gene_id</th>\n",
       "    </tr>\n",
       "  </thead>\n",
       "  <tbody>\n",
       "    <tr>\n",
       "      <th>0</th>\n",
       "      <td>ACH-000005</td>\n",
       "      <td>-0.076383</td>\n",
       "      <td>A1BG</td>\n",
       "      <td>1</td>\n",
       "    </tr>\n",
       "    <tr>\n",
       "      <th>1</th>\n",
       "      <td>ACH-000007</td>\n",
       "      <td>0.102195</td>\n",
       "      <td>A1BG</td>\n",
       "      <td>1</td>\n",
       "    </tr>\n",
       "    <tr>\n",
       "      <th>2</th>\n",
       "      <td>ACH-000009</td>\n",
       "      <td>0.142342</td>\n",
       "      <td>A1BG</td>\n",
       "      <td>1</td>\n",
       "    </tr>\n",
       "    <tr>\n",
       "      <th>3</th>\n",
       "      <td>ACH-000011</td>\n",
       "      <td>0.280082</td>\n",
       "      <td>A1BG</td>\n",
       "      <td>1</td>\n",
       "    </tr>\n",
       "    <tr>\n",
       "      <th>4</th>\n",
       "      <td>ACH-000012</td>\n",
       "      <td>0.033135</td>\n",
       "      <td>A1BG</td>\n",
       "      <td>1</td>\n",
       "    </tr>\n",
       "  </tbody>\n",
       "</table>\n",
       "</div>"
      ],
      "text/plain": [
       "    DepMap_ID  value_gene_selected  gene gene_id\n",
       "0  ACH-000005            -0.076383  A1BG       1\n",
       "1  ACH-000007             0.102195  A1BG       1\n",
       "2  ACH-000009             0.142342  A1BG       1\n",
       "3  ACH-000011             0.280082  A1BG       1\n",
       "4  ACH-000012             0.033135  A1BG       1"
      ]
     },
     "execution_count": 20,
     "metadata": {},
     "output_type": "execute_result"
    }
   ],
   "source": [
    "achilles_clean.head()"
   ]
  },
  {
   "cell_type": "code",
   "execution_count": 21,
   "metadata": {},
   "outputs": [
    {
     "name": "stdout",
     "output_type": "stream",
     "text": [
      "Computed correlations for 1000 / 18119 genes.\n"
     ]
    }
   ],
   "source": [
    "data = achilles_clean.copy()\n",
    "selected_gene_data = data[data['gene'] == GENE_SELECTED]['value_gene_selected']\n",
    "\n",
    "# Create an empty dictionary to store correlations\n",
    "correlations = []\n",
    "\n",
    "gene_count = 0\n",
    "def calculate_correlation(selected_gene, other_gene_data):\n",
    "    correlation, pvalue = pearsonr(selected_gene, other_gene_data)\n",
    "    return correlation, pvalue, -np.log10(pvalue)\n",
    "\n",
    "\n",
    "# Get unique genes in the dataset\n",
    "unique_genes = data['gene'].unique()\n",
    "\n",
    "correlations = []\n",
    "\n",
    "# correlations for a single gene\n",
    "def calculate_gene_correlations(other_gene):\n",
    "    other_gene_data = data[data['gene'] == other_gene]['value_gene_selected']\n",
    "    correlation, pvalue, logpvalue = calculate_correlation(selected_gene_data, other_gene_data)\n",
    "    return {'SELECTED_GENE': GENE_SELECTED, 'EVALUATED_GENE': other_gene, 'CORRELATION': correlation, 'PVALUE': pvalue, 'LOGPVALUE': logpvalue}\n",
    "\n",
    "# Use concurrent.futures to parallelize the computation\n",
    "with concurrent.futures.ProcessPoolExecutor() as executor:\n",
    "    for gene_count, result in enumerate(executor.map(calculate_gene_correlations, unique_genes), 1):\n",
    "        correlations.append(result)\n",
    "        \n",
    "        # Print progress every 1000 genes processed\n",
    "        if gene_count % 1000 == 0:\n",
    "            print(f\"Computed correlations for {gene_count} / {len(unique_genes)} genes.\")\n",
    "\n",
    "\n",
    "results = pd.DataFrame(correlations)\n",
    "FILENAME = \"../output/correlations/correlations_\" + GENE_SELECTED + \"_by_chr.csv\"\n",
    "\n",
    "# Save the results to a CSV file\n",
    "results.to_csv(FILENAME, index=False)\n",
    "\n",
    "# Display the first few rows of the results\n",
    "results.head()"
   ]
  },
  {
   "cell_type": "code",
   "execution_count": null,
   "metadata": {},
   "outputs": [],
   "source": []
  }
 ],
 "metadata": {
  "kernelspec": {
   "display_name": "mbgproject",
   "language": "python",
   "name": "python3"
  },
  "language_info": {
   "codemirror_mode": {
    "name": "ipython",
    "version": 3
   },
   "file_extension": ".py",
   "mimetype": "text/x-python",
   "name": "python",
   "nbconvert_exporter": "python",
   "pygments_lexer": "ipython3",
   "version": "3.10.12"
  },
  "orig_nbformat": 4
 },
 "nbformat": 4,
 "nbformat_minor": 2
}
