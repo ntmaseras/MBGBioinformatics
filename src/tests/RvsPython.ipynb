{
 "cells": [
  {
   "cell_type": "code",
   "execution_count": 8,
   "metadata": {},
   "outputs": [
    {
     "ename": "NameError",
     "evalue": "name 'GENES' is not defined",
     "output_type": "error",
     "traceback": [
      "\u001b[0;31m---------------------------------------------------------------------------\u001b[0m",
      "\u001b[0;31mNameError\u001b[0m                                 Traceback (most recent call last)",
      "Cell \u001b[0;32mIn[8], line 6\u001b[0m\n\u001b[1;32m      3\u001b[0m \u001b[39m# File paths\u001b[39;00m\n\u001b[1;32m      4\u001b[0m GENE \u001b[39m=\u001b[39m \u001b[39m'\u001b[39m\u001b[39mDICER1\u001b[39m\u001b[39m'\u001b[39m\n\u001b[0;32m----> 6\u001b[0m \u001b[39mfor\u001b[39;00m GENE \u001b[39min\u001b[39;00m GENES:\n\u001b[1;32m      7\u001b[0m     original_file_path \u001b[39m=\u001b[39m \u001b[39m\"\u001b[39m\u001b[39m../output/original_correlations/correlations_\u001b[39m\u001b[39m\"\u001b[39m\u001b[39m+\u001b[39mGENE\u001b[39m+\u001b[39m\u001b[39m\"\u001b[39m\u001b[39m_by_chr.tsv\u001b[39m\u001b[39m\"\u001b[39m\n\u001b[1;32m      8\u001b[0m     filtered_file_path \u001b[39m=\u001b[39m \u001b[39m\"\u001b[39m\u001b[39m../output/correlations/filtered/filtered_correlations_\u001b[39m\u001b[39m\"\u001b[39m\u001b[39m+\u001b[39mGENE\u001b[39m+\u001b[39m\u001b[39m\"\u001b[39m\u001b[39m_by_chr.csv\u001b[39m\u001b[39m\"\u001b[39m\n",
      "\u001b[0;31mNameError\u001b[0m: name 'GENES' is not defined"
     ]
    }
   ],
   "source": [
    "import pandas as pd\n",
    "\n",
    "# File paths\n",
    "GENES = ['DICER1','DROSHA','DIS3L2']\n",
    "\n",
    "for GENE in GENES:\n",
    "    original_file_path = \"../output/original_correlations/correlations_\"+GENE+\"_by_chr.tsv\"\n",
    "    filtered_file_path = \"../output/correlations/filtered/filtered_correlations_\"+GENE+\"_by_chr.csv\"\n",
    "\n",
    "    # Read the original and filtered files into DataFrames\n",
    "    original_df = pd.read_csv(original_file_path, sep='\\t')\n",
    "    filtered_df = pd.read_csv(filtered_file_path)\n",
    "\n",
    "    # Get the number of lines in each file\n",
    "    original_line_count = len(original_df)\n",
    "    filtered_line_count = len(filtered_df)\n",
    "\n",
    "    # Extract unique gene sets from both DataFrames\n",
    "    original_genes = set(original_df[\"gene\"])\n",
    "    filtered_genes = set(filtered_df[\"EVALUATED_GENE\"])\n",
    "\n",
    "    # Find genes that appear in one file but not in the other\n",
    "    genes_in_original_not_in_filtered = original_genes - filtered_genes\n",
    "    genes_in_filtered_not_in_original = filtered_genes - original_genes\n",
    "\n",
    "    # Find matching genes\n",
    "    matching_genes = original_genes.intersection(filtered_genes)\n",
    "\n",
    "    # Calculate the percentage of overlap\n",
    "    percentage_overlap = len(matching_genes) / len(original_genes) * 100\n",
    "\n",
    "    # Output the results\n",
    "    print(\"Number of lines in the original file:\", original_line_count)\n",
    "    print(\"Number of lines in the filtered file:\", filtered_line_count)\n",
    "    print(\"\\nGenes in the original file but not in the generated file: {}\".format(len(genes_in_original_not_in_filtered)))\n",
    "    print(genes_in_original_not_in_filtered)\n",
    "\n",
    "    print(\"\\nGenes in the generated file but not in the original file:{}\".format(len(genes_in_filtered_not_in_original)))\n",
    "    #print(genes_in_filtered_not_in_original)\n",
    "\n",
    "    print(\"\\nMatching genes: {}\".format(len(matching_genes)))\n",
    "    #print(matching_genes)\n",
    "\n",
    "    print(\"\\nPercentage of overlap: {:.2f}%\".format(percentage_overlap))\n"
   ]
  },
  {
   "cell_type": "code",
   "execution_count": null,
   "metadata": {},
   "outputs": [],
   "source": []
  }
 ],
 "metadata": {
  "kernelspec": {
   "display_name": "mbgproject",
   "language": "python",
   "name": "python3"
  },
  "language_info": {
   "codemirror_mode": {
    "name": "ipython",
    "version": 3
   },
   "file_extension": ".py",
   "mimetype": "text/x-python",
   "name": "python",
   "nbconvert_exporter": "python",
   "pygments_lexer": "ipython3",
   "version": "3.10.12"
  },
  "orig_nbformat": 4
 },
 "nbformat": 4,
 "nbformat_minor": 2
}
