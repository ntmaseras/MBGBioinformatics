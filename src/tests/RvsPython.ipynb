{
 "cells": [
  {
   "cell_type": "code",
   "execution_count": 2,
   "metadata": {},
   "outputs": [
    {
     "name": "stdout",
     "output_type": "stream",
     "text": [
      "\n",
      "***************DICER1***************\n",
      "\n",
      "Genes in the original file but not in the generated file: 267\n",
      "Genes in the generated file but not in the original file: 247\n",
      "Matching genes: 2498\n",
      "Percentage of overlap: 90.34%\n",
      "\n",
      "***************DROSHA***************\n",
      "\n",
      "Genes in the original file but not in the generated file: 308\n",
      "Genes in the generated file but not in the original file: 317\n",
      "Matching genes: 2514\n",
      "Percentage of overlap: 89.09%\n",
      "\n",
      "***************DIS3L2***************\n",
      "\n",
      "Genes in the original file but not in the generated file: 187\n",
      "Genes in the generated file but not in the original file: 214\n",
      "Matching genes: 3329\n",
      "Percentage of overlap: 94.68%\n"
     ]
    }
   ],
   "source": [
    "import pandas as pd\n",
    "\n",
    "# File paths\n",
    "GENES = ['DICER1','DROSHA','DIS3L2']\n",
    "\n",
    "for GENE in GENES:\n",
    "    print(\"\\n***************\" + GENE+\"***************\")\n",
    "    original_file_path = \"../../output/original_correlations/correlations_\"+GENE+\"_by_chr.tsv\"\n",
    "    filtered_file_path = \"../../output/correlations/filtered/filtered_correlations_\"+GENE+\"_by_chr.csv\"\n",
    "\n",
    "    # Read the original and filtered files into DataFrames\n",
    "    original_df = pd.read_csv(original_file_path, sep='\\t')\n",
    "    filtered_df = pd.read_csv(filtered_file_path)\n",
    "\n",
    "    # Get the number of lines in each file\n",
    "    original_line_count = len(original_df)\n",
    "    filtered_line_count = len(filtered_df)\n",
    "\n",
    "    # Extract unique gene sets from both DataFrames\n",
    "    original_genes = set(original_df[\"gene\"])\n",
    "    filtered_genes = set(filtered_df[\"EVALUATED_GENE\"])\n",
    "\n",
    "    # Find genes that appear in one file but not in the other\n",
    "    genes_in_original_not_in_filtered = original_genes - filtered_genes\n",
    "    genes_in_filtered_not_in_original = filtered_genes - original_genes\n",
    "\n",
    "    # Find matching genes\n",
    "    matching_genes = original_genes.intersection(filtered_genes)\n",
    "\n",
    "    # Calculate the percentage of overlap\n",
    "    percentage_overlap = len(matching_genes) / len(original_genes) * 100\n",
    "\n",
    "    # Output the results\n",
    "    #print(\"Number of lines in the original file:\", original_line_count)\n",
    "    #print(\"Number of lines in the filtered file:\", filtered_line_count)\n",
    "    print(\"\\nGenes in the original file but not in the generated file: {}\".format(len(genes_in_original_not_in_filtered)))\n",
    "    #print(genes_in_original_not_in_filtered)\n",
    "\n",
    "    print(\"Genes in the generated file but not in the original file: {}\".format(len(genes_in_filtered_not_in_original)))\n",
    "    #print(genes_in_filtered_not_in_original)\n",
    "\n",
    "    print(\"Matching genes: {}\".format(len(matching_genes)))\n",
    "    #print(matching_genes)\n",
    "\n",
    "    print(\"Percentage of overlap: {:.2f}%\".format(percentage_overlap))\n"
   ]
  }
 ],
 "metadata": {
  "kernelspec": {
   "display_name": "mbgproject",
   "language": "python",
   "name": "python3"
  },
  "language_info": {
   "codemirror_mode": {
    "name": "ipython",
    "version": 3
   },
   "file_extension": ".py",
   "mimetype": "text/x-python",
   "name": "python",
   "nbconvert_exporter": "python",
   "pygments_lexer": "ipython3",
   "version": "3.10.12"
  },
  "orig_nbformat": 4
 },
 "nbformat": 4,
 "nbformat_minor": 2
}
